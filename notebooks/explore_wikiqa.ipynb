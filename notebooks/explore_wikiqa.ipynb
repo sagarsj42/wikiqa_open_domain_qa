{
 "cells": [
  {
   "cell_type": "code",
   "execution_count": 1,
   "id": "690b4457",
   "metadata": {},
   "outputs": [],
   "source": [
    "!mkdir -p /scratch/sagarsj42/torch-cache\n",
    "!mkdir -p /scratch/sagarsj42/transformers\n",
    "\n",
    "import os\n",
    "os.chdir('/scratch/sagarsj42')\n",
    "os.environ['TORCH_HOME'] = '/scratch/sagarsj42/torch-cache'\n",
    "os.environ['TRANSFORMERS_CACHE'] = '/scratch/sagarsj42/transformers'"
   ]
  },
  {
   "cell_type": "code",
   "execution_count": 8,
   "id": "03041367",
   "metadata": {},
   "outputs": [],
   "source": [
    "import pandas as pd\n",
    "import datasets"
   ]
  },
  {
   "cell_type": "code",
   "execution_count": 3,
   "id": "cd22bd4d",
   "metadata": {},
   "outputs": [
    {
     "name": "stdout",
     "output_type": "stream",
     "text": [
      "WikiQACorpus.zip                              100% 6928KB   6.8MB/s   00:01    \n",
      "Archive:  WikiQACorpus.zip\n",
      "   creating: WikiQACorpus/emnlp-table/\n",
      "  inflating: WikiQACorpus/emnlp-table/WikiQA.CNN.dev.rank  \n",
      "  inflating: WikiQACorpus/emnlp-table/WikiQA.CNN.test.rank  \n",
      "  inflating: WikiQACorpus/emnlp-table/WikiQA.CNN-Cnt.dev.rank  \n",
      "  inflating: WikiQACorpus/emnlp-table/WikiQA.CNN-Cnt.test.rank  \n",
      "  inflating: WikiQACorpus/eval.py    \n",
      "  inflating: WikiQACorpus/Guidelines_Phase1.pdf  \n",
      "  inflating: WikiQACorpus/Guidelines_Phase2.pdf  \n",
      "  inflating: WikiQACorpus/WikiQA.tsv  \n",
      "  inflating: WikiQACorpus/WikiQA-dev.ref  \n",
      "  inflating: WikiQACorpus/WikiQA-dev.tsv  \n",
      "  inflating: WikiQACorpus/WikiQA-dev.txt  \n",
      "  inflating: WikiQACorpus/WikiQA-dev-filtered.ref  \n",
      "  inflating: WikiQACorpus/WikiQASent.pos.ans.tsv  \n",
      "  inflating: WikiQACorpus/WikiQA-test.ref  \n",
      "  inflating: WikiQACorpus/WikiQA-test.tsv  \n",
      "  inflating: WikiQACorpus/WikiQA-test.txt  \n",
      "  inflating: WikiQACorpus/WikiQA-test-filtered.ref  \n",
      "  inflating: WikiQACorpus/WikiQA-train.ref  \n",
      "  inflating: WikiQACorpus/WikiQA-train.tsv  \n",
      "  inflating: WikiQACorpus/WikiQA-train.txt  \n",
      "  inflating: WikiQACorpus/LICENSE.pdf  \n",
      "  inflating: WikiQACorpus/README.txt  \n"
     ]
    }
   ],
   "source": [
    "!scp sagarsj42@ada:/share1/sagarsj42/WikiQACorpus.zip .\n",
    "!unzip WikiQACorpus.zip"
   ]
  },
  {
   "cell_type": "code",
   "execution_count": 4,
   "id": "7f8385b0",
   "metadata": {},
   "outputs": [
    {
     "name": "stdout",
     "output_type": "stream",
     "text": [
      "<class 'pandas.core.frame.DataFrame'>\n",
      "RangeIndex: 20347 entries, 0 to 20346\n",
      "Data columns (total 7 columns):\n",
      " #   Column         Non-Null Count  Dtype \n",
      "---  ------         --------------  ----- \n",
      " 0   QuestionID     20347 non-null  object\n",
      " 1   Question       20347 non-null  object\n",
      " 2   DocumentID     20347 non-null  object\n",
      " 3   DocumentTitle  20347 non-null  object\n",
      " 4   SentenceID     20347 non-null  object\n",
      " 5   Sentence       20347 non-null  object\n",
      " 6   Label          20347 non-null  int64 \n",
      "dtypes: int64(1), object(6)\n",
      "memory usage: 1.1+ MB\n"
     ]
    }
   ],
   "source": [
    "data_path = 'WikiQACorpus'\n",
    "filename = 'WikiQA-train.tsv'\n",
    "\n",
    "wikiqa_train = pd.read_csv(os.path.join(data_path, filename), sep='\\t')\n",
    "wikiqa_train.info()"
   ]
  },
  {
   "cell_type": "code",
   "execution_count": 5,
   "id": "50bcb9fc",
   "metadata": {},
   "outputs": [
    {
     "data": {
      "text/html": [
       "<div>\n",
       "<style scoped>\n",
       "    .dataframe tbody tr th:only-of-type {\n",
       "        vertical-align: middle;\n",
       "    }\n",
       "\n",
       "    .dataframe tbody tr th {\n",
       "        vertical-align: top;\n",
       "    }\n",
       "\n",
       "    .dataframe thead th {\n",
       "        text-align: right;\n",
       "    }\n",
       "</style>\n",
       "<table border=\"1\" class=\"dataframe\">\n",
       "  <thead>\n",
       "    <tr style=\"text-align: right;\">\n",
       "      <th></th>\n",
       "      <th>QuestionID</th>\n",
       "      <th>Question</th>\n",
       "      <th>DocumentID</th>\n",
       "      <th>DocumentTitle</th>\n",
       "      <th>SentenceID</th>\n",
       "      <th>Sentence</th>\n",
       "      <th>Label</th>\n",
       "    </tr>\n",
       "  </thead>\n",
       "  <tbody>\n",
       "    <tr>\n",
       "      <th>0</th>\n",
       "      <td>Q1</td>\n",
       "      <td>how are glacier caves formed?</td>\n",
       "      <td>D1</td>\n",
       "      <td>Glacier cave</td>\n",
       "      <td>D1-0</td>\n",
       "      <td>A partly submerged glacier cave on Perito More...</td>\n",
       "      <td>0</td>\n",
       "    </tr>\n",
       "    <tr>\n",
       "      <th>1</th>\n",
       "      <td>Q1</td>\n",
       "      <td>how are glacier caves formed?</td>\n",
       "      <td>D1</td>\n",
       "      <td>Glacier cave</td>\n",
       "      <td>D1-1</td>\n",
       "      <td>The ice facade is approximately 60 m high</td>\n",
       "      <td>0</td>\n",
       "    </tr>\n",
       "    <tr>\n",
       "      <th>2</th>\n",
       "      <td>Q1</td>\n",
       "      <td>how are glacier caves formed?</td>\n",
       "      <td>D1</td>\n",
       "      <td>Glacier cave</td>\n",
       "      <td>D1-2</td>\n",
       "      <td>Ice formations in the Titlis glacier cave</td>\n",
       "      <td>0</td>\n",
       "    </tr>\n",
       "    <tr>\n",
       "      <th>3</th>\n",
       "      <td>Q1</td>\n",
       "      <td>how are glacier caves formed?</td>\n",
       "      <td>D1</td>\n",
       "      <td>Glacier cave</td>\n",
       "      <td>D1-3</td>\n",
       "      <td>A glacier cave is a cave formed within the ice...</td>\n",
       "      <td>1</td>\n",
       "    </tr>\n",
       "    <tr>\n",
       "      <th>4</th>\n",
       "      <td>Q1</td>\n",
       "      <td>how are glacier caves formed?</td>\n",
       "      <td>D1</td>\n",
       "      <td>Glacier cave</td>\n",
       "      <td>D1-4</td>\n",
       "      <td>Glacier caves are often called ice caves , but...</td>\n",
       "      <td>0</td>\n",
       "    </tr>\n",
       "  </tbody>\n",
       "</table>\n",
       "</div>"
      ],
      "text/plain": [
       "  QuestionID                       Question DocumentID DocumentTitle  \\\n",
       "0         Q1  how are glacier caves formed?         D1  Glacier cave   \n",
       "1         Q1  how are glacier caves formed?         D1  Glacier cave   \n",
       "2         Q1  how are glacier caves formed?         D1  Glacier cave   \n",
       "3         Q1  how are glacier caves formed?         D1  Glacier cave   \n",
       "4         Q1  how are glacier caves formed?         D1  Glacier cave   \n",
       "\n",
       "  SentenceID                                           Sentence  Label  \n",
       "0       D1-0  A partly submerged glacier cave on Perito More...      0  \n",
       "1       D1-1          The ice facade is approximately 60 m high      0  \n",
       "2       D1-2          Ice formations in the Titlis glacier cave      0  \n",
       "3       D1-3  A glacier cave is a cave formed within the ice...      1  \n",
       "4       D1-4  Glacier caves are often called ice caves , but...      0  "
      ]
     },
     "execution_count": 5,
     "metadata": {},
     "output_type": "execute_result"
    }
   ],
   "source": [
    "wikiqa_train.head()"
   ]
  },
  {
   "cell_type": "code",
   "execution_count": 6,
   "id": "fe608c7b",
   "metadata": {},
   "outputs": [
    {
     "name": "stdout",
     "output_type": "stream",
     "text": [
      "<class 'pandas.core.frame.DataFrame'>\n",
      "RangeIndex: 2733 entries, 0 to 2732\n",
      "Data columns (total 7 columns):\n",
      " #   Column         Non-Null Count  Dtype \n",
      "---  ------         --------------  ----- \n",
      " 0   QuestionID     2733 non-null   object\n",
      " 1   Question       2733 non-null   object\n",
      " 2   DocumentID     2733 non-null   object\n",
      " 3   DocumentTitle  2733 non-null   object\n",
      " 4   SentenceID     2733 non-null   object\n",
      " 5   Sentence       2733 non-null   object\n",
      " 6   Label          2733 non-null   int64 \n",
      "dtypes: int64(1), object(6)\n",
      "memory usage: 149.6+ KB\n"
     ]
    }
   ],
   "source": [
    "filename = 'WikiQA-dev.tsv'\n",
    "\n",
    "wikiqa_dev = pd.read_csv(os.path.join(data_path, filename), sep='\\t')\n",
    "wikiqa_dev.info()"
   ]
  },
  {
   "cell_type": "code",
   "execution_count": 7,
   "id": "4b238e13",
   "metadata": {},
   "outputs": [
    {
     "name": "stdout",
     "output_type": "stream",
     "text": [
      "<class 'pandas.core.frame.DataFrame'>\n",
      "RangeIndex: 6116 entries, 0 to 6115\n",
      "Data columns (total 7 columns):\n",
      " #   Column         Non-Null Count  Dtype \n",
      "---  ------         --------------  ----- \n",
      " 0   QuestionID     6116 non-null   object\n",
      " 1   Question       6116 non-null   object\n",
      " 2   DocumentID     6116 non-null   object\n",
      " 3   DocumentTitle  6116 non-null   object\n",
      " 4   SentenceID     6116 non-null   object\n",
      " 5   Sentence       6116 non-null   object\n",
      " 6   Label          6116 non-null   int64 \n",
      "dtypes: int64(1), object(6)\n",
      "memory usage: 334.6+ KB\n"
     ]
    }
   ],
   "source": [
    "filename = 'WikiQA-test.tsv'\n",
    "\n",
    "wikiqa_test = pd.read_csv(os.path.join(data_path, filename), sep='\\t')\n",
    "wikiqa_test.info()"
   ]
  },
  {
   "cell_type": "code",
   "execution_count": 11,
   "id": "b76e11b1",
   "metadata": {},
   "outputs": [
    {
     "name": "stderr",
     "output_type": "stream",
     "text": [
      "Using custom data configuration default\n"
     ]
    },
    {
     "name": "stdout",
     "output_type": "stream",
     "text": [
      "Downloading and preparing dataset wiki_qa/default (download: 6.77 MiB, generated: 6.10 MiB, post-processed: Unknown size, total: 12.87 MiB) to /home2/sagarsj42/.cache/huggingface/datasets/wiki_qa/default/0.1.0/d2d236b5cbdc6fbdab45d168b4d678a002e06ddea3525733a24558150585951c...\n"
     ]
    },
    {
     "data": {
      "application/vnd.jupyter.widget-view+json": {
       "model_id": "7141cdafc04a4ddfa599332f2911c5e9",
       "version_major": 2,
       "version_minor": 0
      },
      "text/plain": [
       "Downloading:   0%|          | 0.00/7.09M [00:00<?, ?B/s]"
      ]
     },
     "metadata": {},
     "output_type": "display_data"
    },
    {
     "data": {
      "application/vnd.jupyter.widget-view+json": {
       "model_id": "",
       "version_major": 2,
       "version_minor": 0
      },
      "text/plain": [
       "0 examples [00:00, ? examples/s]"
      ]
     },
     "metadata": {},
     "output_type": "display_data"
    },
    {
     "data": {
      "application/vnd.jupyter.widget-view+json": {
       "model_id": "",
       "version_major": 2,
       "version_minor": 0
      },
      "text/plain": [
       "0 examples [00:00, ? examples/s]"
      ]
     },
     "metadata": {},
     "output_type": "display_data"
    },
    {
     "data": {
      "application/vnd.jupyter.widget-view+json": {
       "model_id": "",
       "version_major": 2,
       "version_minor": 0
      },
      "text/plain": [
       "0 examples [00:00, ? examples/s]"
      ]
     },
     "metadata": {},
     "output_type": "display_data"
    },
    {
     "name": "stdout",
     "output_type": "stream",
     "text": [
      "Dataset wiki_qa downloaded and prepared to /home2/sagarsj42/.cache/huggingface/datasets/wiki_qa/default/0.1.0/d2d236b5cbdc6fbdab45d168b4d678a002e06ddea3525733a24558150585951c. Subsequent calls will reuse this data.\n"
     ]
    },
    {
     "data": {
      "text/plain": [
       "DatasetDict({\n",
       "    test: Dataset({\n",
       "        features: ['question_id', 'question', 'document_title', 'answer', 'label'],\n",
       "        num_rows: 6165\n",
       "    })\n",
       "    validation: Dataset({\n",
       "        features: ['question_id', 'question', 'document_title', 'answer', 'label'],\n",
       "        num_rows: 2733\n",
       "    })\n",
       "    train: Dataset({\n",
       "        features: ['question_id', 'question', 'document_title', 'answer', 'label'],\n",
       "        num_rows: 20360\n",
       "    })\n",
       "})"
      ]
     },
     "execution_count": 11,
     "metadata": {},
     "output_type": "execute_result"
    }
   ],
   "source": [
    "wikiqa = datasets.load_dataset('wiki_qa')\n",
    "wikiqa"
   ]
  },
  {
   "cell_type": "code",
   "execution_count": 13,
   "id": "21c360c8",
   "metadata": {},
   "outputs": [
    {
     "data": {
      "text/plain": [
       "Dataset({\n",
       "    features: ['question_id', 'question', 'document_title', 'answer', 'label'],\n",
       "    num_rows: 20360\n",
       "})"
      ]
     },
     "execution_count": 13,
     "metadata": {},
     "output_type": "execute_result"
    }
   ],
   "source": [
    "wikiqa['train']"
   ]
  },
  {
   "cell_type": "code",
   "execution_count": 14,
   "id": "42278382",
   "metadata": {},
   "outputs": [
    {
     "data": {
      "text/plain": [
       "Dataset({\n",
       "    features: ['question_id', 'question', 'document_title', 'answer', 'label'],\n",
       "    num_rows: 2733\n",
       "})"
      ]
     },
     "execution_count": 14,
     "metadata": {},
     "output_type": "execute_result"
    }
   ],
   "source": [
    "wikiqa['validation']"
   ]
  },
  {
   "cell_type": "code",
   "execution_count": 15,
   "id": "3e7434ac",
   "metadata": {},
   "outputs": [
    {
     "data": {
      "text/plain": [
       "Dataset({\n",
       "    features: ['question_id', 'question', 'document_title', 'answer', 'label'],\n",
       "    num_rows: 6165\n",
       "})"
      ]
     },
     "execution_count": 15,
     "metadata": {},
     "output_type": "execute_result"
    }
   ],
   "source": [
    "wikiqa['test']"
   ]
  },
  {
   "cell_type": "code",
   "execution_count": 27,
   "id": "4ac98341",
   "metadata": {},
   "outputs": [
    {
     "data": {
      "text/plain": [
       "1242"
      ]
     },
     "execution_count": 27,
     "metadata": {},
     "output_type": "execute_result"
    }
   ],
   "source": [
    "question_status = dict()\n",
    "\n",
    "for split in wikiqa:\n",
    "    split_dataset = wikiqa[split]\n",
    "    n_samples = len(split_dataset)\n",
    "    \n",
    "    for i in range(n_samples):\n",
    "        qid = split_dataset[i]['question_id']\n",
    "        label = split_dataset[i]['label']\n",
    "        if qid not in question_status:\n",
    "            question_status[qid] = label\n",
    "        else:\n",
    "            question_status[qid] = max(question_status[qid], label)\n",
    "        \n",
    "valid_questions = set([qid for qid in question_status if question_status[qid] > 0])\n",
    "len(valid_questions)"
   ]
  },
  {
   "cell_type": "code",
   "execution_count": 32,
   "id": "d97db92d",
   "metadata": {},
   "outputs": [
    {
     "data": {
      "application/vnd.jupyter.widget-view+json": {
       "model_id": "01ea36e5489c4117b29d11ff10b5cfe6",
       "version_major": 2,
       "version_minor": 0
      },
      "text/plain": [
       "  0%|          | 0/7 [00:00<?, ?ba/s]"
      ]
     },
     "metadata": {},
     "output_type": "display_data"
    },
    {
     "data": {
      "application/vnd.jupyter.widget-view+json": {
       "model_id": "c2e207af7f2c4da196f26a2651d5898b",
       "version_major": 2,
       "version_minor": 0
      },
      "text/plain": [
       "  0%|          | 0/3 [00:00<?, ?ba/s]"
      ]
     },
     "metadata": {},
     "output_type": "display_data"
    },
    {
     "data": {
      "application/vnd.jupyter.widget-view+json": {
       "model_id": "858aaff6bca64e56a807b7c43bf245c1",
       "version_major": 2,
       "version_minor": 0
      },
      "text/plain": [
       "  0%|          | 0/21 [00:00<?, ?ba/s]"
      ]
     },
     "metadata": {},
     "output_type": "display_data"
    },
    {
     "data": {
      "text/plain": [
       "DatasetDict({\n",
       "    test: Dataset({\n",
       "        features: ['question_id', 'question', 'document_title', 'answer', 'label'],\n",
       "        num_rows: 2351\n",
       "    })\n",
       "    validation: Dataset({\n",
       "        features: ['question_id', 'question', 'document_title', 'answer', 'label'],\n",
       "        num_rows: 1130\n",
       "    })\n",
       "    train: Dataset({\n",
       "        features: ['question_id', 'question', 'document_title', 'answer', 'label'],\n",
       "        num_rows: 8672\n",
       "    })\n",
       "})"
      ]
     },
     "execution_count": 32,
     "metadata": {},
     "output_type": "execute_result"
    }
   ],
   "source": [
    "wikiqa_filtered = wikiqa.filter(lambda sample: sample['question_id'] in valid_questions)\n",
    "wikiqa_filtered"
   ]
  },
  {
   "cell_type": "code",
   "execution_count": 38,
   "id": "ac18888f",
   "metadata": {},
   "outputs": [
    {
     "data": {
      "text/plain": [
       "243"
      ]
     },
     "execution_count": 38,
     "metadata": {},
     "output_type": "execute_result"
    }
   ],
   "source": [
    "fil_ids = set()\n",
    "\n",
    "for sample in wikiqa_filtered['test']:\n",
    "    fil_ids.add(sample['question_id'])\n",
    "\n",
    "len(fil_ids)"
   ]
  },
  {
   "cell_type": "code",
   "execution_count": null,
   "id": "ce61a6bb",
   "metadata": {},
   "outputs": [],
   "source": []
  }
 ],
 "metadata": {
  "kernelspec": {
   "display_name": "Python 3",
   "language": "python",
   "name": "python3"
  },
  "language_info": {
   "codemirror_mode": {
    "name": "ipython",
    "version": 3
   },
   "file_extension": ".py",
   "mimetype": "text/x-python",
   "name": "python",
   "nbconvert_exporter": "python",
   "pygments_lexer": "ipython3",
   "version": "3.9.1"
  }
 },
 "nbformat": 4,
 "nbformat_minor": 5
}
