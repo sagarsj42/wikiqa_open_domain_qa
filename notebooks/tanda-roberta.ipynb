{
 "cells": [
  {
   "cell_type": "markdown",
   "id": "6416509c",
   "metadata": {},
   "source": [
    "# TANDA on RoBERTa"
   ]
  },
  {
   "cell_type": "markdown",
   "id": "128df4e5",
   "metadata": {},
   "source": [
    "## Setting up the environment"
   ]
  },
  {
   "cell_type": "code",
   "execution_count": 1,
   "id": "59fa069c",
   "metadata": {},
   "outputs": [],
   "source": [
    "!mkdir -p /scratch/sagarsj42/torch-cache\n",
    "!mkdir -p /scratch/sagarsj42/transformers\n",
    "!mkdir -p /scratch/sagarsj42/hf-datasets\n",
    "\n",
    "import os\n",
    "os.chdir('/scratch/sagarsj42')\n",
    "os.environ['TORCH_HOME'] = '/scratch/sagarsj42/torch-cache'\n",
    "os.environ['TRANSFORMERS_CACHE'] = '/scratch/sagarsj42/transformers'\n",
    "os.environ['HF_DATASETS_CACHE'] = '/scratch/sagarsj42/hf-datasets'"
   ]
  },
  {
   "cell_type": "markdown",
   "id": "1afd2e9d",
   "metadata": {},
   "source": [
    "## Imports"
   ]
  },
  {
   "cell_type": "code",
   "execution_count": 2,
   "id": "c6343039",
   "metadata": {},
   "outputs": [
    {
     "name": "stderr",
     "output_type": "stream",
     "text": [
      "2021-12-12 02:21:16.107442: W tensorflow/stream_executor/platform/default/dso_loader.cc:64] Could not load dynamic library 'libcudart.so.11.0'; dlerror: libcudart.so.11.0: cannot open shared object file: No such file or directory\n",
      "2021-12-12 02:21:16.107475: I tensorflow/stream_executor/cuda/cudart_stub.cc:29] Ignore above cudart dlerror if you do not have a GPU set up on your machine.\n"
     ]
    }
   ],
   "source": [
    "import random\n",
    "import string\n",
    "import copy\n",
    "\n",
    "import datasets\n",
    "import numpy as np\n",
    "import matplotlib.pyplot as plt\n",
    "from sklearn.metrics import average_precision_score\n",
    "\n",
    "import torch\n",
    "from torch import nn\n",
    "from torch.utils.data import Dataset, DataLoader\n",
    "from torch.optim import Adam\n",
    "\n",
    "import transformers\n",
    "from transformers import RobertaTokenizer, RobertaModel"
   ]
  },
  {
   "cell_type": "code",
   "execution_count": 3,
   "id": "ab99ebbe",
   "metadata": {},
   "outputs": [
    {
     "data": {
      "text/plain": [
       "device(type='cuda')"
      ]
     },
     "execution_count": 3,
     "metadata": {},
     "output_type": "execute_result"
    }
   ],
   "source": [
    "transformers.logging.set_verbosity_error()\n",
    "DEVICE = torch.device('cuda' if torch.cuda.is_available() else 'cpu')\n",
    "DEVICE"
   ]
  },
  {
   "cell_type": "markdown",
   "id": "44c38dfa",
   "metadata": {},
   "source": [
    "## Create, filter datasets"
   ]
  },
  {
   "cell_type": "code",
   "execution_count": 4,
   "id": "9c15e820",
   "metadata": {},
   "outputs": [],
   "source": [
    "# Copied from explore_wikiqa.ipynb\n",
    "def get_valid_questions(wikiqa):\n",
    "    question_status = dict()\n",
    "\n",
    "    for split in wikiqa:\n",
    "        split_dataset = wikiqa[split]\n",
    "        n_samples = len(split_dataset)\n",
    "\n",
    "        for i in range(n_samples):\n",
    "            qid = split_dataset[i]['question_id']\n",
    "            label = split_dataset[i]['label']\n",
    "            if qid not in question_status:\n",
    "                question_status[qid] = label\n",
    "            else:\n",
    "                question_status[qid] = max(question_status[qid], label)\n",
    "\n",
    "    valid_questions = set([qid for qid in question_status if question_status[qid] > 0])\n",
    "    \n",
    "    return valid_questions"
   ]
  },
  {
   "cell_type": "code",
   "execution_count": 5,
   "id": "b2d6fcff",
   "metadata": {},
   "outputs": [],
   "source": [
    "class AS2Dataset(Dataset):\n",
    "    def __init__(self, as2, name, tokenizer, max_length):\n",
    "        super(AS2Dataset, self).__init__()\n",
    "        self.as2 = as2\n",
    "        self.name = name\n",
    "        self.tokenizer = tokenizer\n",
    "        self.max_length = max_length\n",
    "        \n",
    "        if name == 'wikiqa':\n",
    "            self.sentence_key = 'answer'\n",
    "        else:\n",
    "            self.sentence_key = 'sentence'\n",
    "        \n",
    "    def __len__(self):\n",
    "        return len(self.as2)\n",
    "    \n",
    "    def __getitem__(self, idx):\n",
    "        sample = self.as2[idx]\n",
    "        question = sample['question'].translate(\n",
    "            str.maketrans('', '', string.punctuation)).lower().strip()\n",
    "        sentence = sample[self.sentence_key].translate(\n",
    "            str.maketrans('', '', string.punctuation)).lower().strip()\n",
    "        label = torch.zeros(2)\n",
    "        label[sample['label']] = 1.0\n",
    "#         label = sample['label'] * 1.0\n",
    "        \n",
    "        input_enc = tokenizer(text=question, text_pair=sentence, \n",
    "                              add_special_tokens=True, truncation=True, padding='max_length', \n",
    "                              max_length=self.max_length, \n",
    "                              return_tensors='pt', return_attention_mask=True, return_token_type_ids=True)\n",
    "        \n",
    "        if self.name == 'wikiqa':\n",
    "            return (sample['question_id'], question, sentence, \n",
    "                    input_enc['input_ids'].flatten(), input_enc['attention_mask'].flatten(), \n",
    "                    input_enc['token_type_ids'].flatten(), \n",
    "                    label)\n",
    "        else:\n",
    "            return (question, sentence, input_enc['input_ids'].flatten(), \n",
    "                    input_enc['attention_mask'].flatten(), input_enc['token_type_ids'].flatten(), \n",
    "                    label)"
   ]
  },
  {
   "cell_type": "code",
   "execution_count": 6,
   "id": "7b396c86",
   "metadata": {},
   "outputs": [],
   "source": [
    "class TandaTransfer(nn.Module):\n",
    "    def __init__(self, encoder):\n",
    "        super(TandaTransfer, self).__init__()\n",
    "        self.encoder = encoder\n",
    "        self.layers = nn.Sequential(\n",
    "            nn.Linear(768, 2),\n",
    "            nn.Dropout(p=0.25)\n",
    "        )\n",
    "        \n",
    "    def forward(self, x):\n",
    "        a = x[1]\n",
    "        x = self.encoder(input_ids=x[0], attention_mask=x[1], token_type_ids=x[2]).last_hidden_state\n",
    "        x = (x * a.unsqueeze(-1) / a.sum(1).view(-1, 1, 1)).sum(1)\n",
    "        x = self.layers(x)\n",
    "        \n",
    "        return x"
   ]
  },
  {
   "cell_type": "markdown",
   "id": "cc48a633",
   "metadata": {},
   "source": [
    "## Architecture used in Adapt step"
   ]
  },
  {
   "cell_type": "code",
   "execution_count": 7,
   "id": "56ac7842",
   "metadata": {},
   "outputs": [],
   "source": [
    "# Copied from bert_finetuning.ipynb\n",
    "class BertQA(nn.Module):\n",
    "    def __init__(self, encoder):\n",
    "        super(BertQA, self).__init__()\n",
    "        self.encoder = encoder\n",
    "        self.layers = nn.Sequential(\n",
    "            nn.Linear(768, 512),\n",
    "            nn.Dropout(p=0.25),\n",
    "            nn.LeakyReLU(negative_slope=0.2),\n",
    "            nn.Linear(512, 2),\n",
    "            nn.Dropout(p=0.15),\n",
    "        )\n",
    "        \n",
    "    def forward(self, x):\n",
    "        a = x[1]\n",
    "        x = self.encoder(input_ids=x[0], attention_mask=x[1], token_type_ids=x[2]).last_hidden_state\n",
    "        x = (x * a.unsqueeze(-1) / a.sum(1).view(-1, 1, 1)).sum(1)\n",
    "        x = self.layers(x)\n",
    "        \n",
    "        return x"
   ]
  },
  {
   "cell_type": "markdown",
   "id": "fb071b23",
   "metadata": {},
   "source": [
    "## Load & filter ASNQ"
   ]
  },
  {
   "cell_type": "code",
   "execution_count": 8,
   "id": "eeff79d2",
   "metadata": {},
   "outputs": [],
   "source": [
    "asnq = datasets.load_dataset('asnq')\n",
    "asnq"
   ]
  },
  {
   "cell_type": "code",
   "execution_count": 9,
   "id": "1db6dd99",
   "metadata": {},
   "outputs": [],
   "source": [
    "asnq_f = asnq.filter(lambda sample: \n",
    "                     sample['sentence_in_long_answer'] or sample['short_answer_in_sentence'])\n",
    "asnq_f.save_to_disk('asnq-2-3')\n",
    "asnq_f"
   ]
  },
  {
   "cell_type": "code",
   "execution_count": 50,
   "id": "e6d079fa",
   "metadata": {},
   "outputs": [
    {
     "data": {
      "text/plain": [
       "DatasetDict({\n",
       "    train: Dataset({\n",
       "        features: ['question', 'sentence', 'label', 'sentence_in_long_answer', 'short_answer_in_sentence'],\n",
       "        num_rows: 931448\n",
       "    })\n",
       "    validation: Dataset({\n",
       "        features: ['question', 'sentence', 'label', 'sentence_in_long_answer', 'short_answer_in_sentence'],\n",
       "        num_rows: 59658\n",
       "    })\n",
       "})"
      ]
     },
     "execution_count": 50,
     "metadata": {},
     "output_type": "execute_result"
    }
   ],
   "source": [
    "asnq_f = datasets.load_from_disk('asnq-2-3')\n",
    "asnq_f"
   ]
  },
  {
   "cell_type": "markdown",
   "id": "045e25a0",
   "metadata": {},
   "source": [
    "### Sample 10,000/400 for testing in notebook"
   ]
  },
  {
   "cell_type": "code",
   "execution_count": 51,
   "id": "50ca7ad3",
   "metadata": {},
   "outputs": [
    {
     "data": {
      "text/plain": [
       "{'train': Dataset({\n",
       "     features: ['question', 'sentence', 'label', 'sentence_in_long_answer', 'short_answer_in_sentence'],\n",
       "     num_rows: 10000\n",
       " }),\n",
       " 'validation': Dataset({\n",
       "     features: ['question', 'sentence', 'label', 'sentence_in_long_answer', 'short_answer_in_sentence'],\n",
       "     num_rows: 400\n",
       " })}"
      ]
     },
     "execution_count": 51,
     "metadata": {},
     "output_type": "execute_result"
    }
   ],
   "source": [
    "train_indices = random.sample(range(len(asnq_f['train'])), 10000)\n",
    "dev_indices = random.sample(range(len(asnq_f['validation'])), 400)\n",
    "\n",
    "asnq_ff = dict()\n",
    "asnq_ff['train'] = asnq_f['train'].select(train_indices)\n",
    "asnq_ff['validation'] = asnq_f['validation'].select(dev_indices)\n",
    "asnq_f = asnq_ff\n",
    "asnq_f"
   ]
  },
  {
   "cell_type": "markdown",
   "id": "5a79adfa",
   "metadata": {},
   "source": [
    "## Tokenizer & Encoder"
   ]
  },
  {
   "cell_type": "code",
   "execution_count": 8,
   "id": "842a884e",
   "metadata": {},
   "outputs": [
    {
     "data": {
      "text/plain": [
       "RobertaModel(\n",
       "  (embeddings): RobertaEmbeddings(\n",
       "    (word_embeddings): Embedding(50265, 768, padding_idx=1)\n",
       "    (position_embeddings): Embedding(514, 768, padding_idx=1)\n",
       "    (token_type_embeddings): Embedding(1, 768)\n",
       "    (LayerNorm): LayerNorm((768,), eps=1e-05, elementwise_affine=True)\n",
       "    (dropout): Dropout(p=0.1, inplace=False)\n",
       "  )\n",
       "  (encoder): RobertaEncoder(\n",
       "    (layer): ModuleList(\n",
       "      (0): RobertaLayer(\n",
       "        (attention): RobertaAttention(\n",
       "          (self): RobertaSelfAttention(\n",
       "            (query): Linear(in_features=768, out_features=768, bias=True)\n",
       "            (key): Linear(in_features=768, out_features=768, bias=True)\n",
       "            (value): Linear(in_features=768, out_features=768, bias=True)\n",
       "            (dropout): Dropout(p=0.1, inplace=False)\n",
       "          )\n",
       "          (output): RobertaSelfOutput(\n",
       "            (dense): Linear(in_features=768, out_features=768, bias=True)\n",
       "            (LayerNorm): LayerNorm((768,), eps=1e-05, elementwise_affine=True)\n",
       "            (dropout): Dropout(p=0.1, inplace=False)\n",
       "          )\n",
       "        )\n",
       "        (intermediate): RobertaIntermediate(\n",
       "          (dense): Linear(in_features=768, out_features=3072, bias=True)\n",
       "        )\n",
       "        (output): RobertaOutput(\n",
       "          (dense): Linear(in_features=3072, out_features=768, bias=True)\n",
       "          (LayerNorm): LayerNorm((768,), eps=1e-05, elementwise_affine=True)\n",
       "          (dropout): Dropout(p=0.1, inplace=False)\n",
       "        )\n",
       "      )\n",
       "      (1): RobertaLayer(\n",
       "        (attention): RobertaAttention(\n",
       "          (self): RobertaSelfAttention(\n",
       "            (query): Linear(in_features=768, out_features=768, bias=True)\n",
       "            (key): Linear(in_features=768, out_features=768, bias=True)\n",
       "            (value): Linear(in_features=768, out_features=768, bias=True)\n",
       "            (dropout): Dropout(p=0.1, inplace=False)\n",
       "          )\n",
       "          (output): RobertaSelfOutput(\n",
       "            (dense): Linear(in_features=768, out_features=768, bias=True)\n",
       "            (LayerNorm): LayerNorm((768,), eps=1e-05, elementwise_affine=True)\n",
       "            (dropout): Dropout(p=0.1, inplace=False)\n",
       "          )\n",
       "        )\n",
       "        (intermediate): RobertaIntermediate(\n",
       "          (dense): Linear(in_features=768, out_features=3072, bias=True)\n",
       "        )\n",
       "        (output): RobertaOutput(\n",
       "          (dense): Linear(in_features=3072, out_features=768, bias=True)\n",
       "          (LayerNorm): LayerNorm((768,), eps=1e-05, elementwise_affine=True)\n",
       "          (dropout): Dropout(p=0.1, inplace=False)\n",
       "        )\n",
       "      )\n",
       "      (2): RobertaLayer(\n",
       "        (attention): RobertaAttention(\n",
       "          (self): RobertaSelfAttention(\n",
       "            (query): Linear(in_features=768, out_features=768, bias=True)\n",
       "            (key): Linear(in_features=768, out_features=768, bias=True)\n",
       "            (value): Linear(in_features=768, out_features=768, bias=True)\n",
       "            (dropout): Dropout(p=0.1, inplace=False)\n",
       "          )\n",
       "          (output): RobertaSelfOutput(\n",
       "            (dense): Linear(in_features=768, out_features=768, bias=True)\n",
       "            (LayerNorm): LayerNorm((768,), eps=1e-05, elementwise_affine=True)\n",
       "            (dropout): Dropout(p=0.1, inplace=False)\n",
       "          )\n",
       "        )\n",
       "        (intermediate): RobertaIntermediate(\n",
       "          (dense): Linear(in_features=768, out_features=3072, bias=True)\n",
       "        )\n",
       "        (output): RobertaOutput(\n",
       "          (dense): Linear(in_features=3072, out_features=768, bias=True)\n",
       "          (LayerNorm): LayerNorm((768,), eps=1e-05, elementwise_affine=True)\n",
       "          (dropout): Dropout(p=0.1, inplace=False)\n",
       "        )\n",
       "      )\n",
       "      (3): RobertaLayer(\n",
       "        (attention): RobertaAttention(\n",
       "          (self): RobertaSelfAttention(\n",
       "            (query): Linear(in_features=768, out_features=768, bias=True)\n",
       "            (key): Linear(in_features=768, out_features=768, bias=True)\n",
       "            (value): Linear(in_features=768, out_features=768, bias=True)\n",
       "            (dropout): Dropout(p=0.1, inplace=False)\n",
       "          )\n",
       "          (output): RobertaSelfOutput(\n",
       "            (dense): Linear(in_features=768, out_features=768, bias=True)\n",
       "            (LayerNorm): LayerNorm((768,), eps=1e-05, elementwise_affine=True)\n",
       "            (dropout): Dropout(p=0.1, inplace=False)\n",
       "          )\n",
       "        )\n",
       "        (intermediate): RobertaIntermediate(\n",
       "          (dense): Linear(in_features=768, out_features=3072, bias=True)\n",
       "        )\n",
       "        (output): RobertaOutput(\n",
       "          (dense): Linear(in_features=3072, out_features=768, bias=True)\n",
       "          (LayerNorm): LayerNorm((768,), eps=1e-05, elementwise_affine=True)\n",
       "          (dropout): Dropout(p=0.1, inplace=False)\n",
       "        )\n",
       "      )\n",
       "      (4): RobertaLayer(\n",
       "        (attention): RobertaAttention(\n",
       "          (self): RobertaSelfAttention(\n",
       "            (query): Linear(in_features=768, out_features=768, bias=True)\n",
       "            (key): Linear(in_features=768, out_features=768, bias=True)\n",
       "            (value): Linear(in_features=768, out_features=768, bias=True)\n",
       "            (dropout): Dropout(p=0.1, inplace=False)\n",
       "          )\n",
       "          (output): RobertaSelfOutput(\n",
       "            (dense): Linear(in_features=768, out_features=768, bias=True)\n",
       "            (LayerNorm): LayerNorm((768,), eps=1e-05, elementwise_affine=True)\n",
       "            (dropout): Dropout(p=0.1, inplace=False)\n",
       "          )\n",
       "        )\n",
       "        (intermediate): RobertaIntermediate(\n",
       "          (dense): Linear(in_features=768, out_features=3072, bias=True)\n",
       "        )\n",
       "        (output): RobertaOutput(\n",
       "          (dense): Linear(in_features=3072, out_features=768, bias=True)\n",
       "          (LayerNorm): LayerNorm((768,), eps=1e-05, elementwise_affine=True)\n",
       "          (dropout): Dropout(p=0.1, inplace=False)\n",
       "        )\n",
       "      )\n",
       "      (5): RobertaLayer(\n",
       "        (attention): RobertaAttention(\n",
       "          (self): RobertaSelfAttention(\n",
       "            (query): Linear(in_features=768, out_features=768, bias=True)\n",
       "            (key): Linear(in_features=768, out_features=768, bias=True)\n",
       "            (value): Linear(in_features=768, out_features=768, bias=True)\n",
       "            (dropout): Dropout(p=0.1, inplace=False)\n",
       "          )\n",
       "          (output): RobertaSelfOutput(\n",
       "            (dense): Linear(in_features=768, out_features=768, bias=True)\n",
       "            (LayerNorm): LayerNorm((768,), eps=1e-05, elementwise_affine=True)\n",
       "            (dropout): Dropout(p=0.1, inplace=False)\n",
       "          )\n",
       "        )\n",
       "        (intermediate): RobertaIntermediate(\n",
       "          (dense): Linear(in_features=768, out_features=3072, bias=True)\n",
       "        )\n",
       "        (output): RobertaOutput(\n",
       "          (dense): Linear(in_features=3072, out_features=768, bias=True)\n",
       "          (LayerNorm): LayerNorm((768,), eps=1e-05, elementwise_affine=True)\n",
       "          (dropout): Dropout(p=0.1, inplace=False)\n",
       "        )\n",
       "      )\n",
       "      (6): RobertaLayer(\n",
       "        (attention): RobertaAttention(\n",
       "          (self): RobertaSelfAttention(\n",
       "            (query): Linear(in_features=768, out_features=768, bias=True)\n",
       "            (key): Linear(in_features=768, out_features=768, bias=True)\n",
       "            (value): Linear(in_features=768, out_features=768, bias=True)\n",
       "            (dropout): Dropout(p=0.1, inplace=False)\n",
       "          )\n",
       "          (output): RobertaSelfOutput(\n",
       "            (dense): Linear(in_features=768, out_features=768, bias=True)\n",
       "            (LayerNorm): LayerNorm((768,), eps=1e-05, elementwise_affine=True)\n",
       "            (dropout): Dropout(p=0.1, inplace=False)\n",
       "          )\n",
       "        )\n",
       "        (intermediate): RobertaIntermediate(\n",
       "          (dense): Linear(in_features=768, out_features=3072, bias=True)\n",
       "        )\n",
       "        (output): RobertaOutput(\n",
       "          (dense): Linear(in_features=3072, out_features=768, bias=True)\n",
       "          (LayerNorm): LayerNorm((768,), eps=1e-05, elementwise_affine=True)\n",
       "          (dropout): Dropout(p=0.1, inplace=False)\n",
       "        )\n",
       "      )\n",
       "      (7): RobertaLayer(\n",
       "        (attention): RobertaAttention(\n",
       "          (self): RobertaSelfAttention(\n",
       "            (query): Linear(in_features=768, out_features=768, bias=True)\n",
       "            (key): Linear(in_features=768, out_features=768, bias=True)\n",
       "            (value): Linear(in_features=768, out_features=768, bias=True)\n",
       "            (dropout): Dropout(p=0.1, inplace=False)\n",
       "          )\n",
       "          (output): RobertaSelfOutput(\n",
       "            (dense): Linear(in_features=768, out_features=768, bias=True)\n",
       "            (LayerNorm): LayerNorm((768,), eps=1e-05, elementwise_affine=True)\n",
       "            (dropout): Dropout(p=0.1, inplace=False)\n",
       "          )\n",
       "        )\n",
       "        (intermediate): RobertaIntermediate(\n",
       "          (dense): Linear(in_features=768, out_features=3072, bias=True)\n",
       "        )\n",
       "        (output): RobertaOutput(\n",
       "          (dense): Linear(in_features=3072, out_features=768, bias=True)\n",
       "          (LayerNorm): LayerNorm((768,), eps=1e-05, elementwise_affine=True)\n",
       "          (dropout): Dropout(p=0.1, inplace=False)\n",
       "        )\n",
       "      )\n",
       "      (8): RobertaLayer(\n",
       "        (attention): RobertaAttention(\n",
       "          (self): RobertaSelfAttention(\n",
       "            (query): Linear(in_features=768, out_features=768, bias=True)\n",
       "            (key): Linear(in_features=768, out_features=768, bias=True)\n",
       "            (value): Linear(in_features=768, out_features=768, bias=True)\n",
       "            (dropout): Dropout(p=0.1, inplace=False)\n",
       "          )\n",
       "          (output): RobertaSelfOutput(\n",
       "            (dense): Linear(in_features=768, out_features=768, bias=True)\n",
       "            (LayerNorm): LayerNorm((768,), eps=1e-05, elementwise_affine=True)\n",
       "            (dropout): Dropout(p=0.1, inplace=False)\n",
       "          )\n",
       "        )\n",
       "        (intermediate): RobertaIntermediate(\n",
       "          (dense): Linear(in_features=768, out_features=3072, bias=True)\n",
       "        )\n",
       "        (output): RobertaOutput(\n",
       "          (dense): Linear(in_features=3072, out_features=768, bias=True)\n",
       "          (LayerNorm): LayerNorm((768,), eps=1e-05, elementwise_affine=True)\n",
       "          (dropout): Dropout(p=0.1, inplace=False)\n",
       "        )\n",
       "      )\n",
       "      (9): RobertaLayer(\n",
       "        (attention): RobertaAttention(\n",
       "          (self): RobertaSelfAttention(\n",
       "            (query): Linear(in_features=768, out_features=768, bias=True)\n",
       "            (key): Linear(in_features=768, out_features=768, bias=True)\n",
       "            (value): Linear(in_features=768, out_features=768, bias=True)\n",
       "            (dropout): Dropout(p=0.1, inplace=False)\n",
       "          )\n",
       "          (output): RobertaSelfOutput(\n",
       "            (dense): Linear(in_features=768, out_features=768, bias=True)\n",
       "            (LayerNorm): LayerNorm((768,), eps=1e-05, elementwise_affine=True)\n",
       "            (dropout): Dropout(p=0.1, inplace=False)\n",
       "          )\n",
       "        )\n",
       "        (intermediate): RobertaIntermediate(\n",
       "          (dense): Linear(in_features=768, out_features=3072, bias=True)\n",
       "        )\n",
       "        (output): RobertaOutput(\n",
       "          (dense): Linear(in_features=3072, out_features=768, bias=True)\n",
       "          (LayerNorm): LayerNorm((768,), eps=1e-05, elementwise_affine=True)\n",
       "          (dropout): Dropout(p=0.1, inplace=False)\n",
       "        )\n",
       "      )\n",
       "      (10): RobertaLayer(\n",
       "        (attention): RobertaAttention(\n",
       "          (self): RobertaSelfAttention(\n",
       "            (query): Linear(in_features=768, out_features=768, bias=True)\n",
       "            (key): Linear(in_features=768, out_features=768, bias=True)\n",
       "            (value): Linear(in_features=768, out_features=768, bias=True)\n",
       "            (dropout): Dropout(p=0.1, inplace=False)\n",
       "          )\n",
       "          (output): RobertaSelfOutput(\n",
       "            (dense): Linear(in_features=768, out_features=768, bias=True)\n",
       "            (LayerNorm): LayerNorm((768,), eps=1e-05, elementwise_affine=True)\n",
       "            (dropout): Dropout(p=0.1, inplace=False)\n",
       "          )\n",
       "        )\n",
       "        (intermediate): RobertaIntermediate(\n",
       "          (dense): Linear(in_features=768, out_features=3072, bias=True)\n",
       "        )\n",
       "        (output): RobertaOutput(\n",
       "          (dense): Linear(in_features=3072, out_features=768, bias=True)\n",
       "          (LayerNorm): LayerNorm((768,), eps=1e-05, elementwise_affine=True)\n",
       "          (dropout): Dropout(p=0.1, inplace=False)\n",
       "        )\n",
       "      )\n",
       "      (11): RobertaLayer(\n",
       "        (attention): RobertaAttention(\n",
       "          (self): RobertaSelfAttention(\n",
       "            (query): Linear(in_features=768, out_features=768, bias=True)\n",
       "            (key): Linear(in_features=768, out_features=768, bias=True)\n",
       "            (value): Linear(in_features=768, out_features=768, bias=True)\n",
       "            (dropout): Dropout(p=0.1, inplace=False)\n",
       "          )\n",
       "          (output): RobertaSelfOutput(\n",
       "            (dense): Linear(in_features=768, out_features=768, bias=True)\n",
       "            (LayerNorm): LayerNorm((768,), eps=1e-05, elementwise_affine=True)\n",
       "            (dropout): Dropout(p=0.1, inplace=False)\n",
       "          )\n",
       "        )\n",
       "        (intermediate): RobertaIntermediate(\n",
       "          (dense): Linear(in_features=768, out_features=3072, bias=True)\n",
       "        )\n",
       "        (output): RobertaOutput(\n",
       "          (dense): Linear(in_features=3072, out_features=768, bias=True)\n",
       "          (LayerNorm): LayerNorm((768,), eps=1e-05, elementwise_affine=True)\n",
       "          (dropout): Dropout(p=0.1, inplace=False)\n",
       "        )\n",
       "      )\n",
       "    )\n",
       "  )\n",
       "  (pooler): RobertaPooler(\n",
       "    (dense): Linear(in_features=768, out_features=768, bias=True)\n",
       "    (activation): Tanh()\n",
       "  )\n",
       ")"
      ]
     },
     "execution_count": 8,
     "metadata": {},
     "output_type": "execute_result"
    }
   ],
   "source": [
    "tokenizer = RobertaTokenizer.from_pretrained('roberta-base')\n",
    "encoder = RobertaModel.from_pretrained('roberta-base')\n",
    "encoder"
   ]
  },
  {
   "cell_type": "markdown",
   "id": "465f5e53",
   "metadata": {},
   "source": [
    "## Distribution of token lengths"
   ]
  },
  {
   "cell_type": "code",
   "execution_count": 52,
   "id": "66509dfa",
   "metadata": {},
   "outputs": [
    {
     "data": {
      "text/plain": [
       "10000"
      ]
     },
     "execution_count": 52,
     "metadata": {},
     "output_type": "execute_result"
    }
   ],
   "source": [
    "tok_lengths = list()\n",
    "\n",
    "for sample in asnq_f['train']:\n",
    "    question = sample['question']\n",
    "    sentence = sample['sentence']\n",
    "    tok_len = min(256, len(tokenizer(text=question, text_pair=sentence)['input_ids']))\n",
    "    tok_lengths.append(tok_len)\n",
    "    \n",
    "len(tok_lengths)"
   ]
  },
  {
   "cell_type": "code",
   "execution_count": 53,
   "id": "787522bb",
   "metadata": {},
   "outputs": [
    {
     "data": {
      "image/png": "[encoded data removed]",
      "text/plain": [
       "<Figure size 432x288 with 1 Axes>"
      ]
     },
     "metadata": {
      "needs_background": "light"
     },
     "output_type": "display_data"
    }
   ],
   "source": [
    "plt.hist(tok_lengths, density=False, bins=50)\n",
    "plt.xlabel('tokenized length')\n",
    "plt.ylabel('counts')\n",
    "plt.title('Histogram of tokenized question-sentence lengths')\n",
    "plt.grid()\n",
    "plt.show()"
   ]
  },
  {
   "cell_type": "markdown",
   "id": "2a1d1842",
   "metadata": {},
   "source": [
    "## Setup for transfer step"
   ]
  },
  {
   "cell_type": "code",
   "execution_count": 9,
   "id": "6ca84e9d",
   "metadata": {},
   "outputs": [
    {
     "data": {
      "text/plain": [
       "BCEWithLogitsLoss()"
      ]
     },
     "execution_count": 9,
     "metadata": {},
     "output_type": "execute_result"
    }
   ],
   "source": [
    "batch_size = 16\n",
    "transfer_epochs = 1\n",
    "transfer_learning_rate = 1e-6\n",
    "\n",
    "pos_weight=torch.tensor([1.0, 16.0], dtype=torch.float).to(DEVICE)\n",
    "criterion = nn.BCEWithLogitsLoss(pos_weight=pos_weight)\n",
    "criterion"
   ]
  },
  {
   "cell_type": "code",
   "execution_count": 55,
   "id": "36e9a170",
   "metadata": {},
   "outputs": [],
   "source": [
    "def train_epochs_asnq(n_epochs, dataloader, model, optimizer, criterion, \n",
    "                      dev_dataloader=None, eval_steps=10000, save_path='./best.pth', device='cpu'):\n",
    "    model.train()\n",
    "    n_batches = len(dataloader)\n",
    "    best_loss = float('inf')\n",
    "    \n",
    "    for epoch in range(n_epochs):\n",
    "        total_loss = 0.0\n",
    "        for step, sample in enumerate(dataloader):\n",
    "            sample = sample[2:6]\n",
    "            sample = [s.to(device) for s in sample]\n",
    "            optimizer.zero_grad()\n",
    "            output = model(sample[:-1])\n",
    "            loss = criterion(output, sample[-1])\n",
    "            loss.backward()\n",
    "            optimizer.step()\n",
    "            total_loss += loss.item()\n",
    "\n",
    "            if step > 0 and step % eval_steps == 0:\n",
    "                dev_loss = validate_asnq(dev_dataloader, model, criterion, device=device)\n",
    "                if dev_loss < best_loss:\n",
    "                    best_loss = dev_loss\n",
    "                    save_dict = {\n",
    "                        'epoch': epoch+1,\n",
    "                        'step': step,\n",
    "                        'dev_loss': dev_loss,\n",
    "                        'model_params': model.state_dict()\n",
    "                    }\n",
    "                    torch.save(save_dict, save_path)\n",
    "                    print(f'Best checkpoint saved at epoch {epoch+1}, step {step}, dev loss: {dev_loss:.4f}')\n",
    "                step_loss = 0.0\n",
    "        \n",
    "        save_dict = {\n",
    "                    'epoch': epoch,\n",
    "                    'step': step,\n",
    "                    'dev_loss': dev_loss,\n",
    "                    'model_params': model.state_dict()\n",
    "                    }\n",
    "        torch.save(save_dict, 'test-final-transfer.pth')\n",
    "        total_loss /= n_batches\n",
    "        print(f'Epoch {epoch+1} complete. Train loss: {total_loss:.4f}')\n",
    "    \n",
    "    return total_loss\n",
    "\n",
    "def validate_asnq(dataloader, model, criterion, device='cpu'):\n",
    "    model.eval()\n",
    "    n_batches = len(dataloader)\n",
    "    total_loss = 0.0\n",
    "    \n",
    "    for sample in dataloader:\n",
    "        sample = sample[2:6]\n",
    "        sample = [s.to(device) for s in sample]\n",
    "        output = model(sample[:-1])\n",
    "        loss = criterion(output, sample[-1])\n",
    "        total_loss += loss.item()\n",
    "        \n",
    "    return total_loss / n_batches"
   ]
  },
  {
   "cell_type": "code",
   "execution_count": 56,
   "id": "dad76930",
   "metadata": {},
   "outputs": [
    {
     "data": {
      "text/plain": [
       "(10000, 400)"
      ]
     },
     "execution_count": 56,
     "metadata": {},
     "output_type": "execute_result"
    }
   ],
   "source": [
    "asnq_train_ds = AS2Dataset(asnq_f['train'], 'asnq', tokenizer, max_length=128)\n",
    "asnq_dev_ds = AS2Dataset(asnq_f['validation'], 'asnq', tokenizer, max_length=128)\n",
    "\n",
    "len(asnq_train_ds), len(asnq_dev_ds)"
   ]
  },
  {
   "cell_type": "code",
   "execution_count": 57,
   "id": "69d1fff5",
   "metadata": {},
   "outputs": [
    {
     "data": {
      "text/plain": [
       "(625, 25)"
      ]
     },
     "execution_count": 57,
     "metadata": {},
     "output_type": "execute_result"
    }
   ],
   "source": [
    "asnq_train_dl = DataLoader(asnq_train_ds, batch_size=batch_size, shuffle=True)\n",
    "asnq_dev_dl = DataLoader(asnq_dev_ds, batch_size=batch_size, shuffle=False)\n",
    "\n",
    "len(asnq_train_dl), len(asnq_dev_dl)"
   ]
  },
  {
   "cell_type": "code",
   "execution_count": 19,
   "id": "5bc5e275",
   "metadata": {},
   "outputs": [],
   "source": [
    "model = TandaTransfer(encoder)\n",
    "model.to(DEVICE)\n",
    "model = nn.DataParallel(model)\n",
    "\n",
    "optimizer = Adam(model.parameters(), lr=transfer_learning_rate)"
   ]
  },
  {
   "cell_type": "markdown",
   "id": "c9486131",
   "metadata": {},
   "source": [
    "### Complete transfer step"
   ]
  },
  {
   "cell_type": "code",
   "execution_count": 20,
   "id": "f2b73864",
   "metadata": {},
   "outputs": [
    {
     "name": "stdout",
     "output_type": "stream",
     "text": [
      "Best checkpoint saved at epoch 1, step 100, dev loss: 0.9758\n",
      "Best checkpoint saved at epoch 1, step 200, dev loss: 0.9225\n",
      "Best checkpoint saved at epoch 1, step 300, dev loss: 0.9062\n",
      "Best checkpoint saved at epoch 1, step 400, dev loss: 0.8850\n",
      "Best checkpoint saved at epoch 1, step 500, dev loss: 0.8782\n",
      "Best checkpoint saved at epoch 1, step 600, dev loss: 0.8632\n",
      "Epoch 1 complete. Train loss: 0.8441\n"
     ]
    },
    {
     "data": {
      "text/plain": [
       "0.844081067609787"
      ]
     },
     "execution_count": 20,
     "metadata": {},
     "output_type": "execute_result"
    }
   ],
   "source": [
    "train_loss = train_epochs_asnq(transfer_epochs, asnq_train_dl, model, optimizer, criterion, \n",
    "                               dev_dataloader=asnq_dev_dl, eval_steps=100, save_path='test-best-transfer.pth', \n",
    "                               device=DEVICE)\n",
    "train_loss"
   ]
  },
  {
   "cell_type": "markdown",
   "id": "53d92186",
   "metadata": {},
   "source": [
    "## Load best checkpoint from transfer step"
   ]
  },
  {
   "cell_type": "code",
   "execution_count": 10,
   "id": "86bd44f9",
   "metadata": {},
   "outputs": [
    {
     "data": {
      "text/plain": [
       "TandaTransfer(\n",
       "  (encoder): RobertaModel(\n",
       "    (embeddings): RobertaEmbeddings(\n",
       "      (word_embeddings): Embedding(50265, 768, padding_idx=1)\n",
       "      (position_embeddings): Embedding(514, 768, padding_idx=1)\n",
       "      (token_type_embeddings): Embedding(1, 768)\n",
       "      (LayerNorm): LayerNorm((768,), eps=1e-05, elementwise_affine=True)\n",
       "      (dropout): Dropout(p=0.1, inplace=False)\n",
       "    )\n",
       "    (encoder): RobertaEncoder(\n",
       "      (layer): ModuleList(\n",
       "        (0): RobertaLayer(\n",
       "          (attention): RobertaAttention(\n",
       "            (self): RobertaSelfAttention(\n",
       "              (query): Linear(in_features=768, out_features=768, bias=True)\n",
       "              (key): Linear(in_features=768, out_features=768, bias=True)\n",
       "              (value): Linear(in_features=768, out_features=768, bias=True)\n",
       "              (dropout): Dropout(p=0.1, inplace=False)\n",
       "            )\n",
       "            (output): RobertaSelfOutput(\n",
       "              (dense): Linear(in_features=768, out_features=768, bias=True)\n",
       "              (LayerNorm): LayerNorm((768,), eps=1e-05, elementwise_affine=True)\n",
       "              (dropout): Dropout(p=0.1, inplace=False)\n",
       "            )\n",
       "          )\n",
       "          (intermediate): RobertaIntermediate(\n",
       "            (dense): Linear(in_features=768, out_features=3072, bias=True)\n",
       "          )\n",
       "          (output): RobertaOutput(\n",
       "            (dense): Linear(in_features=3072, out_features=768, bias=True)\n",
       "            (LayerNorm): LayerNorm((768,), eps=1e-05, elementwise_affine=True)\n",
       "            (dropout): Dropout(p=0.1, inplace=False)\n",
       "          )\n",
       "        )\n",
       "        (1): RobertaLayer(\n",
       "          (attention): RobertaAttention(\n",
       "            (self): RobertaSelfAttention(\n",
       "              (query): Linear(in_features=768, out_features=768, bias=True)\n",
       "              (key): Linear(in_features=768, out_features=768, bias=True)\n",
       "              (value): Linear(in_features=768, out_features=768, bias=True)\n",
       "              (dropout): Dropout(p=0.1, inplace=False)\n",
       "            )\n",
       "            (output): RobertaSelfOutput(\n",
       "              (dense): Linear(in_features=768, out_features=768, bias=True)\n",
       "              (LayerNorm): LayerNorm((768,), eps=1e-05, elementwise_affine=True)\n",
       "              (dropout): Dropout(p=0.1, inplace=False)\n",
       "            )\n",
       "          )\n",
       "          (intermediate): RobertaIntermediate(\n",
       "            (dense): Linear(in_features=768, out_features=3072, bias=True)\n",
       "          )\n",
       "          (output): RobertaOutput(\n",
       "            (dense): Linear(in_features=3072, out_features=768, bias=True)\n",
       "            (LayerNorm): LayerNorm((768,), eps=1e-05, elementwise_affine=True)\n",
       "            (dropout): Dropout(p=0.1, inplace=False)\n",
       "          )\n",
       "        )\n",
       "        (2): RobertaLayer(\n",
       "          (attention): RobertaAttention(\n",
       "            (self): RobertaSelfAttention(\n",
       "              (query): Linear(in_features=768, out_features=768, bias=True)\n",
       "              (key): Linear(in_features=768, out_features=768, bias=True)\n",
       "              (value): Linear(in_features=768, out_features=768, bias=True)\n",
       "              (dropout): Dropout(p=0.1, inplace=False)\n",
       "            )\n",
       "            (output): RobertaSelfOutput(\n",
       "              (dense): Linear(in_features=768, out_features=768, bias=True)\n",
       "              (LayerNorm): LayerNorm((768,), eps=1e-05, elementwise_affine=True)\n",
       "              (dropout): Dropout(p=0.1, inplace=False)\n",
       "            )\n",
       "          )\n",
       "          (intermediate): RobertaIntermediate(\n",
       "            (dense): Linear(in_features=768, out_features=3072, bias=True)\n",
       "          )\n",
       "          (output): RobertaOutput(\n",
       "            (dense): Linear(in_features=3072, out_features=768, bias=True)\n",
       "            (LayerNorm): LayerNorm((768,), eps=1e-05, elementwise_affine=True)\n",
       "            (dropout): Dropout(p=0.1, inplace=False)\n",
       "          )\n",
       "        )\n",
       "        (3): RobertaLayer(\n",
       "          (attention): RobertaAttention(\n",
       "            (self): RobertaSelfAttention(\n",
       "              (query): Linear(in_features=768, out_features=768, bias=True)\n",
       "              (key): Linear(in_features=768, out_features=768, bias=True)\n",
       "              (value): Linear(in_features=768, out_features=768, bias=True)\n",
       "              (dropout): Dropout(p=0.1, inplace=False)\n",
       "            )\n",
       "            (output): RobertaSelfOutput(\n",
       "              (dense): Linear(in_features=768, out_features=768, bias=True)\n",
       "              (LayerNorm): LayerNorm((768,), eps=1e-05, elementwise_affine=True)\n",
       "              (dropout): Dropout(p=0.1, inplace=False)\n",
       "            )\n",
       "          )\n",
       "          (intermediate): RobertaIntermediate(\n",
       "            (dense): Linear(in_features=768, out_features=3072, bias=True)\n",
       "          )\n",
       "          (output): RobertaOutput(\n",
       "            (dense): Linear(in_features=3072, out_features=768, bias=True)\n",
       "            (LayerNorm): LayerNorm((768,), eps=1e-05, elementwise_affine=True)\n",
       "            (dropout): Dropout(p=0.1, inplace=False)\n",
       "          )\n",
       "        )\n",
       "        (4): RobertaLayer(\n",
       "          (attention): RobertaAttention(\n",
       "            (self): RobertaSelfAttention(\n",
       "              (query): Linear(in_features=768, out_features=768, bias=True)\n",
       "              (key): Linear(in_features=768, out_features=768, bias=True)\n",
       "              (value): Linear(in_features=768, out_features=768, bias=True)\n",
       "              (dropout): Dropout(p=0.1, inplace=False)\n",
       "            )\n",
       "            (output): RobertaSelfOutput(\n",
       "              (dense): Linear(in_features=768, out_features=768, bias=True)\n",
       "              (LayerNorm): LayerNorm((768,), eps=1e-05, elementwise_affine=True)\n",
       "              (dropout): Dropout(p=0.1, inplace=False)\n",
       "            )\n",
       "          )\n",
       "          (intermediate): RobertaIntermediate(\n",
       "            (dense): Linear(in_features=768, out_features=3072, bias=True)\n",
       "          )\n",
       "          (output): RobertaOutput(\n",
       "            (dense): Linear(in_features=3072, out_features=768, bias=True)\n",
       "            (LayerNorm): LayerNorm((768,), eps=1e-05, elementwise_affine=True)\n",
       "            (dropout): Dropout(p=0.1, inplace=False)\n",
       "          )\n",
       "        )\n",
       "        (5): RobertaLayer(\n",
       "          (attention): RobertaAttention(\n",
       "            (self): RobertaSelfAttention(\n",
       "              (query): Linear(in_features=768, out_features=768, bias=True)\n",
       "              (key): Linear(in_features=768, out_features=768, bias=True)\n",
       "              (value): Linear(in_features=768, out_features=768, bias=True)\n",
       "              (dropout): Dropout(p=0.1, inplace=False)\n",
       "            )\n",
       "            (output): RobertaSelfOutput(\n",
       "              (dense): Linear(in_features=768, out_features=768, bias=True)\n",
       "              (LayerNorm): LayerNorm((768,), eps=1e-05, elementwise_affine=True)\n",
       "              (dropout): Dropout(p=0.1, inplace=False)\n",
       "            )\n",
       "          )\n",
       "          (intermediate): RobertaIntermediate(\n",
       "            (dense): Linear(in_features=768, out_features=3072, bias=True)\n",
       "          )\n",
       "          (output): RobertaOutput(\n",
       "            (dense): Linear(in_features=3072, out_features=768, bias=True)\n",
       "            (LayerNorm): LayerNorm((768,), eps=1e-05, elementwise_affine=True)\n",
       "            (dropout): Dropout(p=0.1, inplace=False)\n",
       "          )\n",
       "        )\n",
       "        (6): RobertaLayer(\n",
       "          (attention): RobertaAttention(\n",
       "            (self): RobertaSelfAttention(\n",
       "              (query): Linear(in_features=768, out_features=768, bias=True)\n",
       "              (key): Linear(in_features=768, out_features=768, bias=True)\n",
       "              (value): Linear(in_features=768, out_features=768, bias=True)\n",
       "              (dropout): Dropout(p=0.1, inplace=False)\n",
       "            )\n",
       "            (output): RobertaSelfOutput(\n",
       "              (dense): Linear(in_features=768, out_features=768, bias=True)\n",
       "              (LayerNorm): LayerNorm((768,), eps=1e-05, elementwise_affine=True)\n",
       "              (dropout): Dropout(p=0.1, inplace=False)\n",
       "            )\n",
       "          )\n",
       "          (intermediate): RobertaIntermediate(\n",
       "            (dense): Linear(in_features=768, out_features=3072, bias=True)\n",
       "          )\n",
       "          (output): RobertaOutput(\n",
       "            (dense): Linear(in_features=3072, out_features=768, bias=True)\n",
       "            (LayerNorm): LayerNorm((768,), eps=1e-05, elementwise_affine=True)\n",
       "            (dropout): Dropout(p=0.1, inplace=False)\n",
       "          )\n",
       "        )\n",
       "        (7): RobertaLayer(\n",
       "          (attention): RobertaAttention(\n",
       "            (self): RobertaSelfAttention(\n",
       "              (query): Linear(in_features=768, out_features=768, bias=True)\n",
       "              (key): Linear(in_features=768, out_features=768, bias=True)\n",
       "              (value): Linear(in_features=768, out_features=768, bias=True)\n",
       "              (dropout): Dropout(p=0.1, inplace=False)\n",
       "            )\n",
       "            (output): RobertaSelfOutput(\n",
       "              (dense): Linear(in_features=768, out_features=768, bias=True)\n",
       "              (LayerNorm): LayerNorm((768,), eps=1e-05, elementwise_affine=True)\n",
       "              (dropout): Dropout(p=0.1, inplace=False)\n",
       "            )\n",
       "          )\n",
       "          (intermediate): RobertaIntermediate(\n",
       "            (dense): Linear(in_features=768, out_features=3072, bias=True)\n",
       "          )\n",
       "          (output): RobertaOutput(\n",
       "            (dense): Linear(in_features=3072, out_features=768, bias=True)\n",
       "            (LayerNorm): LayerNorm((768,), eps=1e-05, elementwise_affine=True)\n",
       "            (dropout): Dropout(p=0.1, inplace=False)\n",
       "          )\n",
       "        )\n",
       "        (8): RobertaLayer(\n",
       "          (attention): RobertaAttention(\n",
       "            (self): RobertaSelfAttention(\n",
       "              (query): Linear(in_features=768, out_features=768, bias=True)\n",
       "              (key): Linear(in_features=768, out_features=768, bias=True)\n",
       "              (value): Linear(in_features=768, out_features=768, bias=True)\n",
       "              (dropout): Dropout(p=0.1, inplace=False)\n",
       "            )\n",
       "            (output): RobertaSelfOutput(\n",
       "              (dense): Linear(in_features=768, out_features=768, bias=True)\n",
       "              (LayerNorm): LayerNorm((768,), eps=1e-05, elementwise_affine=True)\n",
       "              (dropout): Dropout(p=0.1, inplace=False)\n",
       "            )\n",
       "          )\n",
       "          (intermediate): RobertaIntermediate(\n",
       "            (dense): Linear(in_features=768, out_features=3072, bias=True)\n",
       "          )\n",
       "          (output): RobertaOutput(\n",
       "            (dense): Linear(in_features=3072, out_features=768, bias=True)\n",
       "            (LayerNorm): LayerNorm((768,), eps=1e-05, elementwise_affine=True)\n",
       "            (dropout): Dropout(p=0.1, inplace=False)\n",
       "          )\n",
       "        )\n",
       "        (9): RobertaLayer(\n",
       "          (attention): RobertaAttention(\n",
       "            (self): RobertaSelfAttention(\n",
       "              (query): Linear(in_features=768, out_features=768, bias=True)\n",
       "              (key): Linear(in_features=768, out_features=768, bias=True)\n",
       "              (value): Linear(in_features=768, out_features=768, bias=True)\n",
       "              (dropout): Dropout(p=0.1, inplace=False)\n",
       "            )\n",
       "            (output): RobertaSelfOutput(\n",
       "              (dense): Linear(in_features=768, out_features=768, bias=True)\n",
       "              (LayerNorm): LayerNorm((768,), eps=1e-05, elementwise_affine=True)\n",
       "              (dropout): Dropout(p=0.1, inplace=False)\n",
       "            )\n",
       "          )\n",
       "          (intermediate): RobertaIntermediate(\n",
       "            (dense): Linear(in_features=768, out_features=3072, bias=True)\n",
       "          )\n",
       "          (output): RobertaOutput(\n",
       "            (dense): Linear(in_features=3072, out_features=768, bias=True)\n",
       "            (LayerNorm): LayerNorm((768,), eps=1e-05, elementwise_affine=True)\n",
       "            (dropout): Dropout(p=0.1, inplace=False)\n",
       "          )\n",
       "        )\n",
       "        (10): RobertaLayer(\n",
       "          (attention): RobertaAttention(\n",
       "            (self): RobertaSelfAttention(\n",
       "              (query): Linear(in_features=768, out_features=768, bias=True)\n",
       "              (key): Linear(in_features=768, out_features=768, bias=True)\n",
       "              (value): Linear(in_features=768, out_features=768, bias=True)\n",
       "              (dropout): Dropout(p=0.1, inplace=False)\n",
       "            )\n",
       "            (output): RobertaSelfOutput(\n",
       "              (dense): Linear(in_features=768, out_features=768, bias=True)\n",
       "              (LayerNorm): LayerNorm((768,), eps=1e-05, elementwise_affine=True)\n",
       "              (dropout): Dropout(p=0.1, inplace=False)\n",
       "            )\n",
       "          )\n",
       "          (intermediate): RobertaIntermediate(\n",
       "            (dense): Linear(in_features=768, out_features=3072, bias=True)\n",
       "          )\n",
       "          (output): RobertaOutput(\n",
       "            (dense): Linear(in_features=3072, out_features=768, bias=True)\n",
       "            (LayerNorm): LayerNorm((768,), eps=1e-05, elementwise_affine=True)\n",
       "            (dropout): Dropout(p=0.1, inplace=False)\n",
       "          )\n",
       "        )\n",
       "        (11): RobertaLayer(\n",
       "          (attention): RobertaAttention(\n",
       "            (self): RobertaSelfAttention(\n",
       "              (query): Linear(in_features=768, out_features=768, bias=True)\n",
       "              (key): Linear(in_features=768, out_features=768, bias=True)\n",
       "              (value): Linear(in_features=768, out_features=768, bias=True)\n",
       "              (dropout): Dropout(p=0.1, inplace=False)\n",
       "            )\n",
       "            (output): RobertaSelfOutput(\n",
       "              (dense): Linear(in_features=768, out_features=768, bias=True)\n",
       "              (LayerNorm): LayerNorm((768,), eps=1e-05, elementwise_affine=True)\n",
       "              (dropout): Dropout(p=0.1, inplace=False)\n",
       "            )\n",
       "          )\n",
       "          (intermediate): RobertaIntermediate(\n",
       "            (dense): Linear(in_features=768, out_features=3072, bias=True)\n",
       "          )\n",
       "          (output): RobertaOutput(\n",
       "            (dense): Linear(in_features=3072, out_features=768, bias=True)\n",
       "            (LayerNorm): LayerNorm((768,), eps=1e-05, elementwise_affine=True)\n",
       "            (dropout): Dropout(p=0.1, inplace=False)\n",
       "          )\n",
       "        )\n",
       "      )\n",
       "    )\n",
       "    (pooler): RobertaPooler(\n",
       "      (dense): Linear(in_features=768, out_features=768, bias=True)\n",
       "      (activation): Tanh()\n",
       "    )\n",
       "  )\n",
       "  (layers): Sequential(\n",
       "    (0): Linear(in_features=768, out_features=2, bias=True)\n",
       "    (1): Dropout(p=0.25, inplace=False)\n",
       "  )\n",
       ")"
      ]
     },
     "execution_count": 10,
     "metadata": {},
     "output_type": "execute_result"
    }
   ],
   "source": [
    "model = TandaTransfer(encoder)\n",
    "save_dict = torch.load('best-transfer-roberta.pth')\n",
    "model.load_state_dict(save_dict['model_params'], strict=False)\n",
    "model"
   ]
  },
  {
   "cell_type": "code",
   "execution_count": 11,
   "id": "59d7994d",
   "metadata": {},
   "outputs": [
    {
     "name": "stderr",
     "output_type": "stream",
     "text": [
      "Using the latest cached version of the module from /home2/sagarsj42/.cache/huggingface/modules/datasets_modules/datasets/wiki_qa/d2d236b5cbdc6fbdab45d168b4d678a002e06ddea3525733a24558150585951c (last modified on Sat Nov 20 13:05:25 2021) since it couldn't be found locally at /scratch/sagarsj42/wiki_qa/wiki_qa.py, or remotely (ConnectionError).\n",
      "Using custom data configuration default\n",
      "Reusing dataset wiki_qa (/scratch/sagarsj42/hf-datasets/wiki_qa/default/0.1.0/d2d236b5cbdc6fbdab45d168b4d678a002e06ddea3525733a24558150585951c)\n"
     ]
    },
    {
     "data": {
      "application/vnd.jupyter.widget-view+json": {
       "model_id": "6b3cf7b8cbfc421e8d3d413156f26735",
       "version_major": 2,
       "version_minor": 0
      },
      "text/plain": [
       "  0%|          | 0/7 [00:00<?, ?ba/s]"
      ]
     },
     "metadata": {},
     "output_type": "display_data"
    },
    {
     "data": {
      "application/vnd.jupyter.widget-view+json": {
       "model_id": "6fc850f200084b34a1f61d8862a5955c",
       "version_major": 2,
       "version_minor": 0
      },
      "text/plain": [
       "  0%|          | 0/3 [00:00<?, ?ba/s]"
      ]
     },
     "metadata": {},
     "output_type": "display_data"
    },
    {
     "data": {
      "application/vnd.jupyter.widget-view+json": {
       "model_id": "f3806082edf247068d5fee69db07c5c2",
       "version_major": 2,
       "version_minor": 0
      },
      "text/plain": [
       "  0%|          | 0/21 [00:00<?, ?ba/s]"
      ]
     },
     "metadata": {},
     "output_type": "display_data"
    },
    {
     "data": {
      "text/plain": [
       "DatasetDict({\n",
       "    test: Dataset({\n",
       "        features: ['question_id', 'question', 'document_title', 'answer', 'label'],\n",
       "        num_rows: 2351\n",
       "    })\n",
       "    validation: Dataset({\n",
       "        features: ['question_id', 'question', 'document_title', 'answer', 'label'],\n",
       "        num_rows: 1130\n",
       "    })\n",
       "    train: Dataset({\n",
       "        features: ['question_id', 'question', 'document_title', 'answer', 'label'],\n",
       "        num_rows: 8672\n",
       "    })\n",
       "})"
      ]
     },
     "execution_count": 11,
     "metadata": {},
     "output_type": "execute_result"
    }
   ],
   "source": [
    "wikiqa = datasets.load_dataset('wiki_qa')\n",
    "valid_questions = get_valid_questions(wikiqa)\n",
    "wikiqa_f = wikiqa.filter(lambda sample: sample['question_id'] in valid_questions)\n",
    "\n",
    "wikiqa_f"
   ]
  },
  {
   "cell_type": "markdown",
   "id": "48841143",
   "metadata": {},
   "source": [
    "## Setup for adapt setp"
   ]
  },
  {
   "cell_type": "code",
   "execution_count": 12,
   "id": "99eb8885",
   "metadata": {},
   "outputs": [
    {
     "data": {
      "text/plain": [
       "BCEWithLogitsLoss()"
      ]
     },
     "execution_count": 12,
     "metadata": {},
     "output_type": "execute_result"
    }
   ],
   "source": [
    "adapt_learning_rate = 5e-6\n",
    "adapt_epochs = 10\n",
    "\n",
    "pos_weight=torch.tensor([1.0, 8.0], dtype=torch.float).to(DEVICE)\n",
    "criterion = nn.BCEWithLogitsLoss(pos_weight=pos_weight)\n",
    "# criterion = nn.BCEWithLogitsLoss()\n",
    "criterion"
   ]
  },
  {
   "cell_type": "code",
   "execution_count": 13,
   "id": "259ad388",
   "metadata": {},
   "outputs": [
    {
     "data": {
      "text/plain": [
       "Adam (\n",
       "Parameter Group 0\n",
       "    amsgrad: False\n",
       "    betas: (0.9, 0.999)\n",
       "    eps: 1e-07\n",
       "    lr: 5e-06\n",
       "    weight_decay: 0\n",
       ")"
      ]
     },
     "execution_count": 13,
     "metadata": {},
     "output_type": "execute_result"
    }
   ],
   "source": [
    "model = BertQA(model.encoder)\n",
    "model.to(DEVICE)\n",
    "\n",
    "optimizer = Adam(model.parameters(), lr=adapt_learning_rate, betas=(0.9, 0.999), eps=1e-7)\n",
    "optimizer"
   ]
  },
  {
   "cell_type": "code",
   "execution_count": 14,
   "id": "23296c1d",
   "metadata": {},
   "outputs": [
    {
     "data": {
      "text/plain": [
       "(8672, 1130, 2351)"
      ]
     },
     "execution_count": 14,
     "metadata": {},
     "output_type": "execute_result"
    }
   ],
   "source": [
    "wikiqa_train_ds = AS2Dataset(wikiqa_f['train'], 'wikiqa', tokenizer, max_length=64)\n",
    "wikiqa_dev_ds = AS2Dataset(wikiqa_f['validation'], 'wikiqa', tokenizer, max_length=64)\n",
    "wikiqa_test_ds = AS2Dataset(wikiqa_f['test'], 'wikiqa', tokenizer, max_length=64)\n",
    "\n",
    "len(wikiqa_train_ds), len(wikiqa_dev_ds), len(wikiqa_test_ds)"
   ]
  },
  {
   "cell_type": "code",
   "execution_count": 15,
   "id": "22b6e00a",
   "metadata": {},
   "outputs": [
    {
     "data": {
      "text/plain": [
       "(542, 71, 147)"
      ]
     },
     "execution_count": 15,
     "metadata": {},
     "output_type": "execute_result"
    }
   ],
   "source": [
    "wikiqa_train_dl = DataLoader(wikiqa_train_ds, batch_size=batch_size, shuffle=True)\n",
    "wikiqa_dev_dl = DataLoader(wikiqa_dev_ds, batch_size=batch_size, shuffle=False)\n",
    "wikiqa_test_dl = DataLoader(wikiqa_test_ds, batch_size=batch_size, shuffle=False)\n",
    "\n",
    "len(wikiqa_train_dl), len(wikiqa_dev_dl), len(wikiqa_test_dl)"
   ]
  },
  {
   "cell_type": "code",
   "execution_count": 16,
   "id": "d2684227",
   "metadata": {},
   "outputs": [],
   "source": [
    "# Copied from bert_finetuning.ipynb\n",
    "\n",
    "def train_epoch(dataloader, model, optimizer, criterion, device='cpu'):\n",
    "    model.train()\n",
    "    n_batches = len(dataloader)\n",
    "    total_loss = 0.0\n",
    "    \n",
    "    for sample in dataloader:\n",
    "        sample = sample[3:7]\n",
    "        sample = [s.to(device) for s in sample]\n",
    "        optimizer.zero_grad()\n",
    "        output = model(sample[:-1])\n",
    "        loss = criterion(output, sample[-1])\n",
    "        loss.backward()\n",
    "        optimizer.step()\n",
    "        total_loss += loss.item()\n",
    "        \n",
    "    return total_loss / n_batches\n",
    "\n",
    "def validate(dataloader, model, criterion, device='cpu'):\n",
    "    model.eval()\n",
    "    n_batches = len(dataloader)\n",
    "    total_loss = 0.0\n",
    "    \n",
    "    for sample in dataloader:\n",
    "        sample = sample[3:7]\n",
    "        sample = [s.to(device) for s in sample]\n",
    "        output = model(sample[:-1])\n",
    "        loss = criterion(output, sample[-1])\n",
    "        total_loss += loss.item()\n",
    "        \n",
    "    return total_loss / n_batches\n",
    "\n",
    "def get_scores(dataloader, model, device='cpu'):\n",
    "    model.eval()\n",
    "    eval_results = list()\n",
    "    \n",
    "    for batch in dataloader:\n",
    "        batch = copy.deepcopy(batch)\n",
    "        batch_d = [b.to(device) for b in batch[3:6]]\n",
    "        output = model(batch_d).detach()[:, 1]\n",
    "#         output = model(batch_d).detach()\n",
    "        scores = nn.Sigmoid()(output)\n",
    "        \n",
    "        batch[-1] = batch[-1][:, 1].tolist()\n",
    "#         batch[-1] = batch[-1].tolist()\n",
    "        batch.append(scores.tolist())\n",
    "        size = len(batch[0])\n",
    "        eval_results.extend([[b[i] for b in batch] for i in range(size)])\n",
    "        \n",
    "    return eval_results\n",
    "\n",
    "def get_question_label_scores(results):\n",
    "    q_dict = dict()\n",
    "    \n",
    "    for result in results:\n",
    "        qid = result[0]\n",
    "        if qid in q_dict:\n",
    "            q_dict[qid][1].append(result[2])\n",
    "            q_dict[qid][2].append(result[6])\n",
    "            q_dict[qid][3].append(result[7])\n",
    "        else:\n",
    "            q_dict[qid] = [result[1], [result[2]], [result[6]], [result[7]]]\n",
    "            \n",
    "    return q_dict\n",
    "\n",
    "def calculate_metrics(question_scores):\n",
    "    total = len(question_scores) * 1.0\n",
    "    accuracy = 0\n",
    "    mrr = 0.0\n",
    "    all_labels = list()\n",
    "    all_scores = list()\n",
    "    \n",
    "    for qid, values in question_scores.items():\n",
    "        values = copy.deepcopy(values)\n",
    "        labels = values[2]\n",
    "        scores = values[3]\n",
    "        all_labels.extend(labels)\n",
    "        all_scores.extend(scores)\n",
    "        actual = np.array(labels).argmax()\n",
    "        predicted = np.array(scores).argmax()\n",
    "        expected_max = scores[actual]\n",
    "        scores.sort(reverse=True)\n",
    "        given_rank = scores.index(expected_max) + 1\n",
    "        \n",
    "        if actual == predicted:\n",
    "            accuracy += 1\n",
    "        mrr += (1.0/given_rank)\n",
    "        \n",
    "    accuracy /= total\n",
    "    mean_ap = average_precision_score(all_labels, all_scores)\n",
    "    mrr /= total\n",
    "    \n",
    "    return accuracy, mean_ap, mrr\n",
    "\n",
    "def plot_curves(train_stats, dev_stats, index, title):\n",
    "    n_epochs = len(train_stats)+1\n",
    "    plt.plot(range(1, n_epochs), [s[index] for s in train_stats])\n",
    "    plt.plot(range(1, n_epochs), [s[index] for s in dev_stats])\n",
    "    plt.xlabel('Epochs')\n",
    "    plt.ylabel(title)\n",
    "    plt.title(f'Comparison of {title} variation over epochs')\n",
    "    plt.legend(['train', 'dev'])\n",
    "    plt.grid()\n",
    "    plt.show()\n",
    "    \n",
    "    return"
   ]
  },
  {
   "cell_type": "markdown",
   "id": "19184b30",
   "metadata": {},
   "source": [
    "### Complete & evaluate adapt step"
   ]
  },
  {
   "cell_type": "code",
   "execution_count": 17,
   "id": "eac2de5c",
   "metadata": {},
   "outputs": [
    {
     "name": "stdout",
     "output_type": "stream",
     "text": [
      "Epoch 1 complete. Train loss: 0.7382, Dev loss: 0.5953\n",
      "Accuracy: train = 0.572737686139748, dev = 0.6111111111111112\n",
      "MAP: train = 0.5976749567852111, dev = 0.541071912705301\n",
      "MRR: train = 0.735087874048904, dev = 0.7420262717881766\n",
      "--------------------------------------------------------------------------------\n",
      "Epoch 2 complete. Train loss: 0.5969, Dev loss: 0.5401\n",
      "Accuracy: train = 0.695303550973654, dev = 0.6666666666666666\n",
      "MAP: train = 0.7343812105840383, dev = 0.6105640393442809\n",
      "MRR: train = 0.8244259399757681, dev = 0.7825179229941137\n",
      "--------------------------------------------------------------------------------\n",
      "Epoch 3 complete. Train loss: 0.5231, Dev loss: 0.5022\n",
      "Accuracy: train = 0.7548682703321878, dev = 0.6904761904761905\n",
      "MAP: train = 0.8232071085981452, dev = 0.6544367423261173\n",
      "MRR: train = 0.8607275090952072, dev = 0.8030706727135298\n",
      "--------------------------------------------------------------------------------\n",
      "Epoch 4 complete. Train loss: 0.4523, Dev loss: 0.5241\n",
      "Accuracy: train = 0.8178694158075601, dev = 0.7063492063492064\n",
      "MAP: train = 0.8762870156935043, dev = 0.6307667813941027\n",
      "MRR: train = 0.8987208858342881, dev = 0.8117472915091963\n",
      "--------------------------------------------------------------------------------\n",
      "Epoch 5 complete. Train loss: 0.3972, Dev loss: 0.5267\n",
      "Accuracy: train = 0.8717067583046965, dev = 0.7619047619047619\n",
      "MAP: train = 0.9205925368545422, dev = 0.6036477890676998\n",
      "MRR: train = 0.9298696339933457, dev = 0.847905643738977\n",
      "--------------------------------------------------------------------------------\n",
      "Epoch 6 complete. Train loss: 0.3416, Dev loss: 0.5520\n",
      "Accuracy: train = 0.8854524627720504, dev = 0.7301587301587301\n",
      "MAP: train = 0.9548026590957472, dev = 0.637648630424505\n",
      "MRR: train = 0.9383925162275679, dev = 0.8313807004283195\n",
      "--------------------------------------------------------------------------------\n",
      "Epoch 7 complete. Train loss: 0.3036, Dev loss: 0.7064\n",
      "Accuracy: train = 0.9095074455899198, dev = 0.7142857142857143\n",
      "MAP: train = 0.9713760814177863, dev = 0.6233303767683447\n",
      "MRR: train = 0.9513554791905309, dev = 0.8233560090702948\n",
      "--------------------------------------------------------------------------------\n",
      "Epoch 8 complete. Train loss: 0.2817, Dev loss: 0.7088\n",
      "Accuracy: train = 0.8980526918671249, dev = 0.7301587301587301\n",
      "MAP: train = 0.9836527849882036, dev = 0.6280372224949804\n",
      "MRR: train = 0.9466208476517753, dev = 0.8276549508692366\n",
      "--------------------------------------------------------------------------------\n",
      "Epoch 9 complete. Train loss: 0.2607, Dev loss: 0.6800\n",
      "Accuracy: train = 0.9129438717067583, dev = 0.7222222222222222\n",
      "MAP: train = 0.9842978427502663, dev = 0.6146489703138056\n",
      "MRR: train = 0.9546582665139365, dev = 0.8191137566137566\n",
      "--------------------------------------------------------------------------------\n",
      "Epoch 10 complete. Train loss: 0.2417, Dev loss: 0.8010\n",
      "Accuracy: train = 0.8946162657502864, dev = 0.7301587301587301\n",
      "MAP: train = 0.9898553430250996, dev = 0.6313573783787143\n",
      "MRR: train = 0.9436044291714396, dev = 0.8303571428571429\n",
      "--------------------------------------------------------------------------------\n"
     ]
    }
   ],
   "source": [
    "best_mrr = float('-inf')\n",
    "best_model = None\n",
    "train_stats = list()\n",
    "dev_stats = list()\n",
    "\n",
    "for epoch in range(adapt_epochs):\n",
    "    train_loss = train_epoch(wikiqa_train_dl, model, optimizer, criterion, device=DEVICE)\n",
    "    dev_loss = validate(wikiqa_dev_dl, model, criterion, device=DEVICE)\n",
    "    \n",
    "    train_results = get_scores(wikiqa_train_dl, model, device=DEVICE)\n",
    "    train_qscores = get_question_label_scores(train_results)\n",
    "    train_acc, train_map, train_mrr = calculate_metrics(train_qscores)\n",
    "    train_stats.append((train_loss, train_acc, train_map, train_mrr))\n",
    "    \n",
    "    dev_results = get_scores(wikiqa_dev_dl, model, device=DEVICE)\n",
    "    dev_qscores = get_question_label_scores(dev_results)\n",
    "    dev_acc, dev_map, dev_mrr = calculate_metrics(dev_qscores)\n",
    "    dev_stats.append((dev_loss, dev_acc, dev_map, dev_mrr))\n",
    "    \n",
    "    if dev_mrr > best_mrr:\n",
    "        best_mrr = dev_mrr\n",
    "        best_model = copy.deepcopy(model)\n",
    "    \n",
    "    print(f'Epoch {epoch+1} complete. Train loss: {train_loss:.4f}, Dev loss: {dev_loss:.4f}')\n",
    "    print(f'Accuracy: train = {train_acc}, dev = {dev_acc}')\n",
    "    print(f'MAP: train = {train_map}, dev = {dev_map}')\n",
    "    print(f'MRR: train = {train_mrr}, dev = {dev_mrr}')\n",
    "    print('-'*80)\n",
    "    \n",
    "save_dict = {'model_params': best_model.state_dict(), \n",
    "             'train_stats': train_stats, \n",
    "             'dev_stats': dev_stats\n",
    "            }\n",
    "torch.save(save_dict, 'best-wikiqa-adapt-roberta.pth')"
   ]
  },
  {
   "cell_type": "code",
   "execution_count": 18,
   "id": "8f3597c2",
   "metadata": {},
   "outputs": [
    {
     "data": {
      "text/plain": [
       "dict_keys(['model_params', 'train_stats', 'dev_stats'])"
      ]
     },
     "execution_count": 18,
     "metadata": {},
     "output_type": "execute_result"
    }
   ],
   "source": [
    "save_dict = torch.load('best-wikiqa-adapt-roberta.pth')\n",
    "train_stats = save_dict['train_stats']\n",
    "dev_stats = save_dict['dev_stats']\n",
    "save_dict.keys()"
   ]
  },
  {
   "cell_type": "code",
   "execution_count": 19,
   "id": "bf270d83",
   "metadata": {},
   "outputs": [
    {
     "data": {
      "text/plain": [
       "BertQA(\n",
       "  (encoder): RobertaModel(\n",
       "    (embeddings): RobertaEmbeddings(\n",
       "      (word_embeddings): Embedding(50265, 768, padding_idx=1)\n",
       "      (position_embeddings): Embedding(514, 768, padding_idx=1)\n",
       "      (token_type_embeddings): Embedding(1, 768)\n",
       "      (LayerNorm): LayerNorm((768,), eps=1e-05, elementwise_affine=True)\n",
       "      (dropout): Dropout(p=0.1, inplace=False)\n",
       "    )\n",
       "    (encoder): RobertaEncoder(\n",
       "      (layer): ModuleList(\n",
       "        (0): RobertaLayer(\n",
       "          (attention): RobertaAttention(\n",
       "            (self): RobertaSelfAttention(\n",
       "              (query): Linear(in_features=768, out_features=768, bias=True)\n",
       "              (key): Linear(in_features=768, out_features=768, bias=True)\n",
       "              (value): Linear(in_features=768, out_features=768, bias=True)\n",
       "              (dropout): Dropout(p=0.1, inplace=False)\n",
       "            )\n",
       "            (output): RobertaSelfOutput(\n",
       "              (dense): Linear(in_features=768, out_features=768, bias=True)\n",
       "              (LayerNorm): LayerNorm((768,), eps=1e-05, elementwise_affine=True)\n",
       "              (dropout): Dropout(p=0.1, inplace=False)\n",
       "            )\n",
       "          )\n",
       "          (intermediate): RobertaIntermediate(\n",
       "            (dense): Linear(in_features=768, out_features=3072, bias=True)\n",
       "          )\n",
       "          (output): RobertaOutput(\n",
       "            (dense): Linear(in_features=3072, out_features=768, bias=True)\n",
       "            (LayerNorm): LayerNorm((768,), eps=1e-05, elementwise_affine=True)\n",
       "            (dropout): Dropout(p=0.1, inplace=False)\n",
       "          )\n",
       "        )\n",
       "        (1): RobertaLayer(\n",
       "          (attention): RobertaAttention(\n",
       "            (self): RobertaSelfAttention(\n",
       "              (query): Linear(in_features=768, out_features=768, bias=True)\n",
       "              (key): Linear(in_features=768, out_features=768, bias=True)\n",
       "              (value): Linear(in_features=768, out_features=768, bias=True)\n",
       "              (dropout): Dropout(p=0.1, inplace=False)\n",
       "            )\n",
       "            (output): RobertaSelfOutput(\n",
       "              (dense): Linear(in_features=768, out_features=768, bias=True)\n",
       "              (LayerNorm): LayerNorm((768,), eps=1e-05, elementwise_affine=True)\n",
       "              (dropout): Dropout(p=0.1, inplace=False)\n",
       "            )\n",
       "          )\n",
       "          (intermediate): RobertaIntermediate(\n",
       "            (dense): Linear(in_features=768, out_features=3072, bias=True)\n",
       "          )\n",
       "          (output): RobertaOutput(\n",
       "            (dense): Linear(in_features=3072, out_features=768, bias=True)\n",
       "            (LayerNorm): LayerNorm((768,), eps=1e-05, elementwise_affine=True)\n",
       "            (dropout): Dropout(p=0.1, inplace=False)\n",
       "          )\n",
       "        )\n",
       "        (2): RobertaLayer(\n",
       "          (attention): RobertaAttention(\n",
       "            (self): RobertaSelfAttention(\n",
       "              (query): Linear(in_features=768, out_features=768, bias=True)\n",
       "              (key): Linear(in_features=768, out_features=768, bias=True)\n",
       "              (value): Linear(in_features=768, out_features=768, bias=True)\n",
       "              (dropout): Dropout(p=0.1, inplace=False)\n",
       "            )\n",
       "            (output): RobertaSelfOutput(\n",
       "              (dense): Linear(in_features=768, out_features=768, bias=True)\n",
       "              (LayerNorm): LayerNorm((768,), eps=1e-05, elementwise_affine=True)\n",
       "              (dropout): Dropout(p=0.1, inplace=False)\n",
       "            )\n",
       "          )\n",
       "          (intermediate): RobertaIntermediate(\n",
       "            (dense): Linear(in_features=768, out_features=3072, bias=True)\n",
       "          )\n",
       "          (output): RobertaOutput(\n",
       "            (dense): Linear(in_features=3072, out_features=768, bias=True)\n",
       "            (LayerNorm): LayerNorm((768,), eps=1e-05, elementwise_affine=True)\n",
       "            (dropout): Dropout(p=0.1, inplace=False)\n",
       "          )\n",
       "        )\n",
       "        (3): RobertaLayer(\n",
       "          (attention): RobertaAttention(\n",
       "            (self): RobertaSelfAttention(\n",
       "              (query): Linear(in_features=768, out_features=768, bias=True)\n",
       "              (key): Linear(in_features=768, out_features=768, bias=True)\n",
       "              (value): Linear(in_features=768, out_features=768, bias=True)\n",
       "              (dropout): Dropout(p=0.1, inplace=False)\n",
       "            )\n",
       "            (output): RobertaSelfOutput(\n",
       "              (dense): Linear(in_features=768, out_features=768, bias=True)\n",
       "              (LayerNorm): LayerNorm((768,), eps=1e-05, elementwise_affine=True)\n",
       "              (dropout): Dropout(p=0.1, inplace=False)\n",
       "            )\n",
       "          )\n",
       "          (intermediate): RobertaIntermediate(\n",
       "            (dense): Linear(in_features=768, out_features=3072, bias=True)\n",
       "          )\n",
       "          (output): RobertaOutput(\n",
       "            (dense): Linear(in_features=3072, out_features=768, bias=True)\n",
       "            (LayerNorm): LayerNorm((768,), eps=1e-05, elementwise_affine=True)\n",
       "            (dropout): Dropout(p=0.1, inplace=False)\n",
       "          )\n",
       "        )\n",
       "        (4): RobertaLayer(\n",
       "          (attention): RobertaAttention(\n",
       "            (self): RobertaSelfAttention(\n",
       "              (query): Linear(in_features=768, out_features=768, bias=True)\n",
       "              (key): Linear(in_features=768, out_features=768, bias=True)\n",
       "              (value): Linear(in_features=768, out_features=768, bias=True)\n",
       "              (dropout): Dropout(p=0.1, inplace=False)\n",
       "            )\n",
       "            (output): RobertaSelfOutput(\n",
       "              (dense): Linear(in_features=768, out_features=768, bias=True)\n",
       "              (LayerNorm): LayerNorm((768,), eps=1e-05, elementwise_affine=True)\n",
       "              (dropout): Dropout(p=0.1, inplace=False)\n",
       "            )\n",
       "          )\n",
       "          (intermediate): RobertaIntermediate(\n",
       "            (dense): Linear(in_features=768, out_features=3072, bias=True)\n",
       "          )\n",
       "          (output): RobertaOutput(\n",
       "            (dense): Linear(in_features=3072, out_features=768, bias=True)\n",
       "            (LayerNorm): LayerNorm((768,), eps=1e-05, elementwise_affine=True)\n",
       "            (dropout): Dropout(p=0.1, inplace=False)\n",
       "          )\n",
       "        )\n",
       "        (5): RobertaLayer(\n",
       "          (attention): RobertaAttention(\n",
       "            (self): RobertaSelfAttention(\n",
       "              (query): Linear(in_features=768, out_features=768, bias=True)\n",
       "              (key): Linear(in_features=768, out_features=768, bias=True)\n",
       "              (value): Linear(in_features=768, out_features=768, bias=True)\n",
       "              (dropout): Dropout(p=0.1, inplace=False)\n",
       "            )\n",
       "            (output): RobertaSelfOutput(\n",
       "              (dense): Linear(in_features=768, out_features=768, bias=True)\n",
       "              (LayerNorm): LayerNorm((768,), eps=1e-05, elementwise_affine=True)\n",
       "              (dropout): Dropout(p=0.1, inplace=False)\n",
       "            )\n",
       "          )\n",
       "          (intermediate): RobertaIntermediate(\n",
       "            (dense): Linear(in_features=768, out_features=3072, bias=True)\n",
       "          )\n",
       "          (output): RobertaOutput(\n",
       "            (dense): Linear(in_features=3072, out_features=768, bias=True)\n",
       "            (LayerNorm): LayerNorm((768,), eps=1e-05, elementwise_affine=True)\n",
       "            (dropout): Dropout(p=0.1, inplace=False)\n",
       "          )\n",
       "        )\n",
       "        (6): RobertaLayer(\n",
       "          (attention): RobertaAttention(\n",
       "            (self): RobertaSelfAttention(\n",
       "              (query): Linear(in_features=768, out_features=768, bias=True)\n",
       "              (key): Linear(in_features=768, out_features=768, bias=True)\n",
       "              (value): Linear(in_features=768, out_features=768, bias=True)\n",
       "              (dropout): Dropout(p=0.1, inplace=False)\n",
       "            )\n",
       "            (output): RobertaSelfOutput(\n",
       "              (dense): Linear(in_features=768, out_features=768, bias=True)\n",
       "              (LayerNorm): LayerNorm((768,), eps=1e-05, elementwise_affine=True)\n",
       "              (dropout): Dropout(p=0.1, inplace=False)\n",
       "            )\n",
       "          )\n",
       "          (intermediate): RobertaIntermediate(\n",
       "            (dense): Linear(in_features=768, out_features=3072, bias=True)\n",
       "          )\n",
       "          (output): RobertaOutput(\n",
       "            (dense): Linear(in_features=3072, out_features=768, bias=True)\n",
       "            (LayerNorm): LayerNorm((768,), eps=1e-05, elementwise_affine=True)\n",
       "            (dropout): Dropout(p=0.1, inplace=False)\n",
       "          )\n",
       "        )\n",
       "        (7): RobertaLayer(\n",
       "          (attention): RobertaAttention(\n",
       "            (self): RobertaSelfAttention(\n",
       "              (query): Linear(in_features=768, out_features=768, bias=True)\n",
       "              (key): Linear(in_features=768, out_features=768, bias=True)\n",
       "              (value): Linear(in_features=768, out_features=768, bias=True)\n",
       "              (dropout): Dropout(p=0.1, inplace=False)\n",
       "            )\n",
       "            (output): RobertaSelfOutput(\n",
       "              (dense): Linear(in_features=768, out_features=768, bias=True)\n",
       "              (LayerNorm): LayerNorm((768,), eps=1e-05, elementwise_affine=True)\n",
       "              (dropout): Dropout(p=0.1, inplace=False)\n",
       "            )\n",
       "          )\n",
       "          (intermediate): RobertaIntermediate(\n",
       "            (dense): Linear(in_features=768, out_features=3072, bias=True)\n",
       "          )\n",
       "          (output): RobertaOutput(\n",
       "            (dense): Linear(in_features=3072, out_features=768, bias=True)\n",
       "            (LayerNorm): LayerNorm((768,), eps=1e-05, elementwise_affine=True)\n",
       "            (dropout): Dropout(p=0.1, inplace=False)\n",
       "          )\n",
       "        )\n",
       "        (8): RobertaLayer(\n",
       "          (attention): RobertaAttention(\n",
       "            (self): RobertaSelfAttention(\n",
       "              (query): Linear(in_features=768, out_features=768, bias=True)\n",
       "              (key): Linear(in_features=768, out_features=768, bias=True)\n",
       "              (value): Linear(in_features=768, out_features=768, bias=True)\n",
       "              (dropout): Dropout(p=0.1, inplace=False)\n",
       "            )\n",
       "            (output): RobertaSelfOutput(\n",
       "              (dense): Linear(in_features=768, out_features=768, bias=True)\n",
       "              (LayerNorm): LayerNorm((768,), eps=1e-05, elementwise_affine=True)\n",
       "              (dropout): Dropout(p=0.1, inplace=False)\n",
       "            )\n",
       "          )\n",
       "          (intermediate): RobertaIntermediate(\n",
       "            (dense): Linear(in_features=768, out_features=3072, bias=True)\n",
       "          )\n",
       "          (output): RobertaOutput(\n",
       "            (dense): Linear(in_features=3072, out_features=768, bias=True)\n",
       "            (LayerNorm): LayerNorm((768,), eps=1e-05, elementwise_affine=True)\n",
       "            (dropout): Dropout(p=0.1, inplace=False)\n",
       "          )\n",
       "        )\n",
       "        (9): RobertaLayer(\n",
       "          (attention): RobertaAttention(\n",
       "            (self): RobertaSelfAttention(\n",
       "              (query): Linear(in_features=768, out_features=768, bias=True)\n",
       "              (key): Linear(in_features=768, out_features=768, bias=True)\n",
       "              (value): Linear(in_features=768, out_features=768, bias=True)\n",
       "              (dropout): Dropout(p=0.1, inplace=False)\n",
       "            )\n",
       "            (output): RobertaSelfOutput(\n",
       "              (dense): Linear(in_features=768, out_features=768, bias=True)\n",
       "              (LayerNorm): LayerNorm((768,), eps=1e-05, elementwise_affine=True)\n",
       "              (dropout): Dropout(p=0.1, inplace=False)\n",
       "            )\n",
       "          )\n",
       "          (intermediate): RobertaIntermediate(\n",
       "            (dense): Linear(in_features=768, out_features=3072, bias=True)\n",
       "          )\n",
       "          (output): RobertaOutput(\n",
       "            (dense): Linear(in_features=3072, out_features=768, bias=True)\n",
       "            (LayerNorm): LayerNorm((768,), eps=1e-05, elementwise_affine=True)\n",
       "            (dropout): Dropout(p=0.1, inplace=False)\n",
       "          )\n",
       "        )\n",
       "        (10): RobertaLayer(\n",
       "          (attention): RobertaAttention(\n",
       "            (self): RobertaSelfAttention(\n",
       "              (query): Linear(in_features=768, out_features=768, bias=True)\n",
       "              (key): Linear(in_features=768, out_features=768, bias=True)\n",
       "              (value): Linear(in_features=768, out_features=768, bias=True)\n",
       "              (dropout): Dropout(p=0.1, inplace=False)\n",
       "            )\n",
       "            (output): RobertaSelfOutput(\n",
       "              (dense): Linear(in_features=768, out_features=768, bias=True)\n",
       "              (LayerNorm): LayerNorm((768,), eps=1e-05, elementwise_affine=True)\n",
       "              (dropout): Dropout(p=0.1, inplace=False)\n",
       "            )\n",
       "          )\n",
       "          (intermediate): RobertaIntermediate(\n",
       "            (dense): Linear(in_features=768, out_features=3072, bias=True)\n",
       "          )\n",
       "          (output): RobertaOutput(\n",
       "            (dense): Linear(in_features=3072, out_features=768, bias=True)\n",
       "            (LayerNorm): LayerNorm((768,), eps=1e-05, elementwise_affine=True)\n",
       "            (dropout): Dropout(p=0.1, inplace=False)\n",
       "          )\n",
       "        )\n",
       "        (11): RobertaLayer(\n",
       "          (attention): RobertaAttention(\n",
       "            (self): RobertaSelfAttention(\n",
       "              (query): Linear(in_features=768, out_features=768, bias=True)\n",
       "              (key): Linear(in_features=768, out_features=768, bias=True)\n",
       "              (value): Linear(in_features=768, out_features=768, bias=True)\n",
       "              (dropout): Dropout(p=0.1, inplace=False)\n",
       "            )\n",
       "            (output): RobertaSelfOutput(\n",
       "              (dense): Linear(in_features=768, out_features=768, bias=True)\n",
       "              (LayerNorm): LayerNorm((768,), eps=1e-05, elementwise_affine=True)\n",
       "              (dropout): Dropout(p=0.1, inplace=False)\n",
       "            )\n",
       "          )\n",
       "          (intermediate): RobertaIntermediate(\n",
       "            (dense): Linear(in_features=768, out_features=3072, bias=True)\n",
       "          )\n",
       "          (output): RobertaOutput(\n",
       "            (dense): Linear(in_features=3072, out_features=768, bias=True)\n",
       "            (LayerNorm): LayerNorm((768,), eps=1e-05, elementwise_affine=True)\n",
       "            (dropout): Dropout(p=0.1, inplace=False)\n",
       "          )\n",
       "        )\n",
       "      )\n",
       "    )\n",
       "    (pooler): RobertaPooler(\n",
       "      (dense): Linear(in_features=768, out_features=768, bias=True)\n",
       "      (activation): Tanh()\n",
       "    )\n",
       "  )\n",
       "  (layers): Sequential(\n",
       "    (0): Linear(in_features=768, out_features=512, bias=True)\n",
       "    (1): Dropout(p=0.25, inplace=False)\n",
       "    (2): LeakyReLU(negative_slope=0.2)\n",
       "    (3): Linear(in_features=512, out_features=2, bias=True)\n",
       "    (4): Dropout(p=0.15, inplace=False)\n",
       "  )\n",
       ")"
      ]
     },
     "execution_count": 19,
     "metadata": {},
     "output_type": "execute_result"
    }
   ],
   "source": [
    "model = BertQA(encoder)\n",
    "model.load_state_dict(save_dict['model_params'], strict=False)\n",
    "model.to(DEVICE)"
   ]
  },
  {
   "cell_type": "code",
   "execution_count": 20,
   "id": "00dd515c",
   "metadata": {},
   "outputs": [
    {
     "data": {
      "text/plain": [
       "0.5058435954559012"
      ]
     },
     "execution_count": 20,
     "metadata": {},
     "output_type": "execute_result"
    }
   ],
   "source": [
    "test_loss = validate(wikiqa_test_dl, model, criterion, device=DEVICE)\n",
    "test_loss"
   ]
  },
  {
   "cell_type": "code",
   "execution_count": 21,
   "id": "5b81b57a",
   "metadata": {},
   "outputs": [
    {
     "name": "stdout",
     "output_type": "stream",
     "text": [
      "Test data: Accuracy = 0.7613168724279835, MAP = 0.6615303951897219, MRR = 0.8548402900254752\n"
     ]
    }
   ],
   "source": [
    "test_results = get_scores(wikiqa_test_dl, model, device=DEVICE)\n",
    "test_qscores = get_question_label_scores(test_results)\n",
    "test_acc, test_map, test_mrr = calculate_metrics(test_qscores)\n",
    "\n",
    "print(f'Test data: Accuracy = {test_acc}, MAP = {test_map}, MRR = {test_mrr}')"
   ]
  },
  {
   "cell_type": "markdown",
   "id": "2c14a78b",
   "metadata": {},
   "source": [
    "## Additional visualizations for adapt step"
   ]
  },
  {
   "cell_type": "code",
   "execution_count": 22,
   "id": "1f88742e",
   "metadata": {},
   "outputs": [
    {
     "data": {
      "image/png": "[encoded data removed]",
      "text/plain": [
       "<Figure size 432x288 with 1 Axes>"
      ]
     },
     "metadata": {
      "needs_background": "light"
     },
     "output_type": "display_data"
    }
   ],
   "source": [
    "plot_curves(train_stats, dev_stats, 0, 'loss')"
   ]
  },
  {
   "cell_type": "code",
   "execution_count": 23,
   "id": "c569d41a",
   "metadata": {},
   "outputs": [
    {
     "data": {
      "image/png": "[encoded data removed]",
      "text/plain": [
       "<Figure size 432x288 with 1 Axes>"
      ]
     },
     "metadata": {
      "needs_background": "light"
     },
     "output_type": "display_data"
    }
   ],
   "source": [
    "plot_curves(train_stats, dev_stats, 1, 'accuracy')"
   ]
  },
  {
   "cell_type": "code",
   "execution_count": 24,
   "id": "31aa8ef1",
   "metadata": {},
   "outputs": [
    {
     "data": {
      "image/png": "[encoded data removed]",
      "text/plain": [
       "<Figure size 432x288 with 1 Axes>"
      ]
     },
     "metadata": {
      "needs_background": "light"
     },
     "output_type": "display_data"
    }
   ],
   "source": [
    "plot_curves(train_stats, dev_stats, 2, 'MAP')"
   ]
  },
  {
   "cell_type": "code",
   "execution_count": 25,
   "id": "67aa53b0",
   "metadata": {},
   "outputs": [
    {
     "data": {
      "image/png": "[encoded data removed]",
      "text/plain": [
       "<Figure size 432x288 with 1 Axes>"
      ]
     },
     "metadata": {
      "needs_background": "light"
     },
     "output_type": "display_data"
    }
   ],
   "source": [
    "plot_curves(train_stats, dev_stats, 3, 'MRR')"
   ]
  },
  {
   "cell_type": "code",
   "execution_count": 26,
   "id": "6a949976",
   "metadata": {},
   "outputs": [
    {
     "name": "stdout",
     "output_type": "stream",
     "text": [
      "0.7382473317129585 \t 0.572737686139748 \t 0.5976749567852111 \t 0.735087874048904\n",
      "0.5968973624805243 \t 0.695303550973654 \t 0.7343812105840383 \t 0.8244259399757681\n",
      "0.523059469527424 \t 0.7548682703321878 \t 0.8232071085981452 \t 0.8607275090952072\n",
      "0.45230761481057236 \t 0.8178694158075601 \t 0.8762870156935043 \t 0.8987208858342881\n",
      "0.39724679156533027 \t 0.8717067583046965 \t 0.9205925368545422 \t 0.9298696339933457\n",
      "0.3415711637881904 \t 0.8854524627720504 \t 0.9548026590957472 \t 0.9383925162275679\n",
      "0.30356810811728346 \t 0.9095074455899198 \t 0.9713760814177863 \t 0.9513554791905309\n",
      "0.2816589982334758 \t 0.8980526918671249 \t 0.9836527849882036 \t 0.9466208476517753\n",
      "0.26074510648832877 \t 0.9129438717067583 \t 0.9842978427502663 \t 0.9546582665139365\n",
      "0.24169405755961512 \t 0.8946162657502864 \t 0.9898553430250996 \t 0.9436044291714396\n"
     ]
    }
   ],
   "source": [
    "for t in train_stats:\n",
    "    print(t[0], '\\t', t[1], '\\t', t[2], '\\t', t[3])"
   ]
  },
  {
   "cell_type": "code",
   "execution_count": 27,
   "id": "57f3572b",
   "metadata": {},
   "outputs": [
    {
     "name": "stdout",
     "output_type": "stream",
     "text": [
      "0.5953241309649507 \t 0.6111111111111112 \t 0.541071912705301 \t 0.7420262717881766\n",
      "0.5400824443974965 \t 0.6666666666666666 \t 0.6105640393442809 \t 0.7825179229941137\n",
      "0.5022027801040193 \t 0.6904761904761905 \t 0.6544367423261173 \t 0.8030706727135298\n",
      "0.524127806995956 \t 0.7063492063492064 \t 0.6307667813941027 \t 0.8117472915091963\n",
      "0.5267142435981774 \t 0.7619047619047619 \t 0.6036477890676998 \t 0.847905643738977\n",
      "0.551958340075864 \t 0.7301587301587301 \t 0.637648630424505 \t 0.8313807004283195\n",
      "0.7063694090884126 \t 0.7142857142857143 \t 0.6233303767683447 \t 0.8233560090702948\n",
      "0.7087690069300818 \t 0.7301587301587301 \t 0.6280372224949804 \t 0.8276549508692366\n",
      "0.6799817128552937 \t 0.7222222222222222 \t 0.6146489703138056 \t 0.8191137566137566\n",
      "0.801000411425468 \t 0.7301587301587301 \t 0.6313573783787143 \t 0.8303571428571429\n"
     ]
    }
   ],
   "source": [
    "for t in dev_stats:\n",
    "    print(t[0], '\\t', t[1], '\\t', t[2], '\\t', t[3])"
   ]
  },
  {
   "cell_type": "code",
   "execution_count": null,
   "id": "16262c4b",
   "metadata": {},
   "outputs": [],
   "source": []
  }
 ],
 "metadata": {
  "kernelspec": {
   "display_name": "Python 3",
   "language": "python",
   "name": "python3"
  },
  "language_info": {
   "codemirror_mode": {
    "name": "ipython",
    "version": 3
   },
   "file_extension": ".py",
   "mimetype": "text/x-python",
   "name": "python",
   "nbconvert_exporter": "python",
   "pygments_lexer": "ipython3",
   "version": "3.9.1"
  }
 },
 "nbformat": 4,
 "nbformat_minor": 5
}
